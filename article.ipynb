{
 "cells": [
  {
   "cell_type": "markdown",
   "metadata": {
    "citation-manager": {
     "citations": {
      "": []
     }
    },
    "tags": [
     "title"
    ]
   },
   "source": [
    "# History of Fandoms at Risk: Cyber Communities and Their Evolution (1996-2020)"
   ]
  },
  {
   "cell_type": "markdown",
   "metadata": {
    "tags": [
     "copyright"
    ]
   },
   "source": [
    "[![cc-by](https://licensebuttons.net/l/by/4.0/88x31.png)](https://creativecommons.org/licenses/by/4.0/) \n",
    "©<AUTHOR or ORGANIZATION / FUNDER>. Published by De Gruyter in cooperation with the University of Luxembourg Centre for Contemporary and Digital History. This is an Open Access article distributed under the terms of the [Creative Commons Attribution License CC-BY](https://creativecommons.org/licenses/by/4.0/)\n"
   ]
  },
  {
   "cell_type": "markdown",
   "metadata": {
    "tags": [
     "disclaimer"
    ]
   },
   "source": [
    " (optional) This article was orginally published (...)"
   ]
  },
  {
   "cell_type": "markdown",
   "metadata": {
    "tags": [
     "keywords"
    ]
   },
   "source": [
    "Digital Fandoms, History, Cyber Communities, Digital Culture, Web Platforms, Fan Content, Web Archives, Open Doors Project, Born-Digital Heritage, Fan Culture, Digital Preservation, English-Speaking Platforms, Russian-Speaking Platforms, Internet Archive"
   ]
  },
  {
   "cell_type": "markdown",
   "metadata": {
    "tags": [
     "abstract"
    ]
   },
   "source": [
    "Exploring the world of fandom offers a unique opportunity to understand the mechanisms at work in the cultural landscape, both online and offline. The modern world is characterised by constant connectivity and communication, facilitated by the rapid advancement of digital technology in society. This transformation is redefining the cultural landscape and supporting the development of digital fan cultures that not only consume content, but actively create and share it. This paper examines digital fandom communities from a historical perspective. The research takes an interdisciplinary approach and uses qualitative and quantitative research methods to trace the development of fandom platforms on the web. Based on the analysis of digital resources, including web-archived websites, it examines how fandoms function as digital communities and how their culture has changed over time. The article offers insights into the evolution of fandom culture from the 1990s to 2020, taking into account English-speaking fandom platforms preserved in the Open Doors project and Russian-speaking platforms selected as a case study. The article concludes with the need for comprehensive preservation of born-digital cultural heritage, which is in danger of being lost for various reasons, including political, cultural and technical."
   ]
  },
  {
   "cell_type": "markdown",
   "metadata": {},
   "source": [
    "## Introduction"
   ]
  },
  {
   "cell_type": "markdown",
   "metadata": {},
   "source": [
    "The transition to the information society has been accompanied by profound changes in the production and dissemination of information, marking a significant shift with far-reaching implications across different sectors and societal dimensions <cite data-cite=\"undefined\"></cite>. This manifested itself in the emergence of new types of communities that do not interact physically with each other and communicate through specialised resources online. Contemporary society is specific to the processes of constant inclusion in communication, due to the possibility of being 'in several places at the same time'. Under these circumstances, the new media influence communication, content consumption and the production of cultural information. These ongoing processes have significantly influenced and changed the perception of culture and the possibilities of public interaction with it <cite data-cite=\"16470964/JGSEGBF4\"></cite>, <cite data-cite=\"16470964/XNHDY2ZD\"></cite>.  The active development of digital technologies and the emergence of new communication channels have simultaneously led to a greater accessibility and diffusion of mass culture and to the emergence and establishment of a new form of fan culture, related to the creation of fan communities in the digital environment, primarily on the Internet. This phenomenon is referred to as digital fandom <cite data-cite=\"16470964/52Q99BQ4\"></cite>, <cite data-cite=\"16470964/QDVVLXHD\"></cite>."
   ]
  },
  {
   "cell_type": "markdown",
   "metadata": {},
   "source": [
    "The emerging digital resources, including fan communication platforms and the content they produce, are a valuable part of the born-digital heritage <cite data-cite=\"16470964/AX6HW379\"></cite>. Because of their born-digital nature, these resources are extremely fragile and may disappear if not properly preserved <cite data-cite=\"16470964/5SHUWW9E\"></cite>. Studying cybercommunities and their creativity is not only useful for research purposes and knowledge dissemination, but also draws attention to the importance of preserving such valuable materials for the future generations."
   ]
  },
  {
   "cell_type": "markdown",
   "metadata": {},
   "source": [
    "Examining fandoms on the web from a historical perspective is also important, as it allows researchers to trace the evolution of fan culture and to study human interaction with digital technologies in specific fields over time. This research deepens our understanding of how contemporary forms of fan cultures, digital forms and community-building practices have been shaped in the digital age and influenced by web technologies <cite data-cite=\"16470964/MYJ85V6G\"></cite>."
   ]
  },
  {
   "cell_type": "markdown",
   "metadata": {},
   "source": [
    "From the very beginning on the web, early web fandoms often convened in specific online forums, chat rooms, and mailing lists <cite data-cite=\"16470964/GNSCJK6Z\"></cite>. Analyzing these resources from a historical perspective offers a lens into the digital culture of the time, showcasing how fans navigated the limited technological tools available to connect and express their passion for various media texts. This historical context is crucial for appreciating the significance of modern platforms similar to social media in facilitating fandom activities, as well as understanding how fan practices have evolved in response to changes in technology and Internet culture <cite data-cite=\"16470964/2HLDWJTH\"></cite>, <cite data-cite=\"16470964/VKJFRHU6\"></cite>."
   ]
  },
  {
   "cell_type": "markdown",
   "metadata": {},
   "source": [
    "The main aim of this study is to explore digital fandom communities and their online presence from 1996 to 2020 in English and Russian speaking cultures. The research focuses on the analysis of fan culture web platforms and their characteristics through the exploration of the Open Doors project, which is dedicated to \"offering shelter to at-risk fannish content\" <cite data-cite=\"16470964/IMI4WFZB\"></cite>. English-speaking platforms were selected from the Open Doors project. However, non-English platforms are often excluded from international representation on global platforms such as Open Doors, and need more attention as they are in danger of disappearing. Therefore, in order to emphasise the need to preserve non-English platforms, the case study dedicated to Russian-speaking fandoms was selected for consideration. Preserved versions of the identified platforms on the Internet Archive (IA) formed the dataset for tracing various attributes of fandoms and related web platforms. The information was taken from the Wayback Machine and organised as a database. Based on the interdisciplinary research methodology, the paper traces the key characteristics and development of digital fandom communities."
   ]
  },
  {
   "cell_type": "markdown",
   "metadata": {},
   "source": [
    "## Relevant Studies"
   ]
  },
  {
   "cell_type": "markdown",
   "metadata": {},
   "source": [
    "The term 'fandom' originally referred to a group of people who enjoyed science fiction <cite data-cite=\"16470964/R8PIWVXW\"></cite>. The increasing impact of digital technologies has influenced the members of fan cultures and laid the foundation for new types of relationships between them and the individuals whose creativity they admire <cite data-cite=\"16470964/FSM3RB3N\"></cite>. With the development of cyber-societies <cite data-cite=\"16470964/SRRX7WV4\"></cite>, the term 'fandom' has taken on a broader meaning, encompassing communities of enthusiasts who actively engage with a wide range of media genres and different forms of popular culture. In this context, the phenomenon of fandoms is seen as cybercommunities of a special kind on the Internet <cite data-cite=\"16470964/Y8332K2L\"></cite>. The other academic papers mention the same communities as digital fandoms  <cite data-cite=\"16470964/QDVVLXHD\"></cite>, <cite data-cite=\"16470964/52Q99BQ4\"></cite>. These fandom communities create, share, discuss, and consume content related to their joint interests, shaping specific social networks and collaborative platforms online around shared preferences. In this paper, the term 'cyber fandom' is used interchangeably with 'digital fandom’ emphasizing their web presence."
   ]
  },
  {
   "cell_type": "markdown",
   "metadata": {},
   "source": [
    "Regarding the development of fandoms on the WWW, researchers focus on the emergence of digital platforms for fandom communities <cite data-cite=\"16470964/7FE4X9PD\"></cite>, <cite data-cite=\"16470964/MYJ85V6G\"></cite> and their growth <cite data-cite=\"16470964/3JUPH2P9\"></cite>. The historical perspective involves analysing the formation, development and characteristics of cybercommunities in general and media communities in particular <cite data-cite=\"16470964/NLCJKISV\"></cite>. Defining the phenomenon of fandoms and related creative practices is under consideration. M. Willson suggests the need to rethink and conceptualise the practice of fandoms and the shift in social relations <cite data-cite=\"undefined\"></cite>. Fandom is also examined as a networked society in cyberspace. Drawing attention to communicative practices, H. Reinhold describes his own experience and participation in various cybernetic groups and associations and how they function <cite data-cite=\"16470964/CZNWJGXD\"></cite>."
   ]
  },
  {
   "cell_type": "markdown",
   "metadata": {},
   "source": [
    "Scholars also examine cybercommunities from a socio-philosophical perspective. R. Esposito <cite data-cite=\"16470964/HBJ6YF8M\"></cite> addresses the issue of the community as a concept, G. Delanti <cite data-cite=\"16470964/CBAPIG35\"></cite> provides an overview of the leading discussions on citizenship and the consequences of globalisation that affect communities on the Internet. These ideas served as a theoretical basis for considering cyber-fandom communities from the perspective of national and international fandoms."
   ]
  },
  {
   "cell_type": "markdown",
   "metadata": {},
   "source": [
    "The changes in social relations with the increase in interpersonal connections via the Internet and the influence of cyber communities on society are explored from the perspective of media studies. N. Couldry and A. Hepp study fandom in the context of the development of media means and the impact of media practices on different areas of human life <cite data-cite=\"16470964/DSARXFVM\"></cite>. There are academic publications that focus on fandoms and aim to examine their history in the digital age, identify their key characteristics, and determine and interpret the place and role of fandom cybercommunities in society <cite data-cite=\"16470964/2HHY68QY\"></cite>, <cite data-cite=\"16470964/DEYTY3K2\"></cite>, <cite data-cite=\"16470964/2KC77DSJ\"></cite>. Research on fandoms as cybercommunities addresses key conceptual and methodological issues in the study of fandoms, for example, M. Hills brings a historical perspective through the lens of online survey analysis <cite data-cite=\"16470964/7FE4X9PD\"></cite>."
   ]
  },
  {
   "cell_type": "markdown",
   "metadata": {},
   "source": [
    "The world of fandom is diverse, spanning continents and languages, yet it often feels like English-speaking fandoms dominate the international arena. The rise of national platforms in the international landscape is not as visible through global lenses. However, the study of national fandom cultures requires closer attention because of their cultural value and the need to recognise the tapestry of fan creativity."
   ]
  },
  {
   "cell_type": "markdown",
   "metadata": {},
   "source": [
    "Historically, fandom cultures were transferred to Russia after the fall of the Soviet Union. In Russia, digital fandoms have been actively studied since the beginning of the 21st century. Since then, Russian researchers have focused on studying fan fiction published online <cite data-cite=\"16470964/GBURX9N8\"></cite>, determining the characteristics of the phenomenon <cite data-cite=\"16470964/PQQ7PTCE\"></cite>, searching for the specific features of Russian fandoms, and considering fandoms from an ethnographical perspective <cite data-cite=\"16470964/3DGDDIBW\"></cite>. Russian-speaking authors have also contributed to the theory of digital fandoms. For example, M. Korobko <cite data-cite=\"16470964/IJTW2W79\"></cite> studied the patterns of using the genre system in fanfiction, and identified the closeness in understanding the genres of fanfiction and folklore. The research of Klujkova E. and Chetina E. <cite data-cite=\"16470964/GBURX9N8\"></cite> is devoted to the analysis of networked fan communities and Russian-speaking fanfiction, the socio-cultural characteristics of the creators and consumers of fanfiction, and the thematic and communicative peculiarities of fandoms."
   ]
  },
  {
   "cell_type": "markdown",
   "metadata": {},
   "source": [
    "A review of the literature shows that the field of fandom studies is represented by a diverse range of research topics, reflecting the growing complexity of fan cultures in contemporary media environments. Scholars from a variety of disciplines, including sociology, media studies, cultural studies, psychology and philosophy, have contributed to the study of fandoms as digital communities, using different methodologies and theoretical frameworks. The direction of 'fan history' or the historical development of fandoms in academic consideration <cite data-cite=\"16470964/KKWQEMAP\"></cite>, <cite data-cite=\"16470964/LBBDGA7F\"></cite> has been firmly established and institutionalised through the introduction of topic-oriented publications within fan and media studies. The Journal on Transformative Works and Cultures can serve as an example <cite data-cite=\"16470964/BX4Q4K4M\"></cite>. However, the historical perspective is not sufficiently covered and research would benefit from the analysis of web archives and snapshots of fandom communities' websites. "
   ]
  },
  {
   "cell_type": "markdown",
   "metadata": {},
   "source": [
    "## Methods"
   ]
  },
  {
   "cell_type": "markdown",
   "metadata": {},
   "source": [
    "The analysis of digital cultures requires the creation of a sufficient source base. However, websites are scattered across the Internet and many of them, born digital in nature, have already disappeared. Therefore, the collection of data for the study of English-speaking fandoms was based on obtaining information from the aggregator of fan heritage, the Open Doors Project, which aims to preserve 'fannish content' <cite data-cite=\"16470964/GZBPJB6W\"></cite>. The Open Doors project was launched in 2008 and was the focus of this research as it is one of the largest projects in the field of preserving fandom culture.  The fandom web platforms were selected from the Open Doors project and the full list of these platforms included 50 websites."
   ]
  },
  {
   "cell_type": "markdown",
   "metadata": {},
   "source": [
    "Web platforms were selected from the Open Doors project and the full list of these platforms included 50 websites."
   ]
  },
  {
   "cell_type": "markdown",
   "metadata": {},
   "source": [
    "The Open Doors project focuses more on English-speaking fandoms and does not include those run in Russian. Therefore, it is a problem to find Russian-speaking fandom platforms, especially from the early years of the web. In the Russian domain, there is no project similar to Open Doors that could unite and preserve the fandom heritage. For this research, the fandom websites were selected based on recommendations from authors and readers published on the Internet on general media platforms such as Lurkomorye, an informal Russian-language online encyclopaedia powered by MediaWiki <cite data-cite=\"16470964/V5EK48RG\"></cite>. The Lurkomorye platform, or Lurkmore in Russian, used to be ‘an encyclopedia of modern culture, folklore and subcultures, as well as everything else’, as stated on the project's home page <cite data-cite=\"16470964/V5EK48RG\"></cite>. This platform is no longer accessible on the live web, being mirrored to another website irrelevant to the former encyclopaedia. Recordings about the websites were checked and inspected on the Internet Archive. The Wayback Machine is therefore an invaluable source of information for research."
   ]
  },
  {
   "cell_type": "markdown",
   "metadata": {},
   "source": [
    "Information about the platforms taken from the snapshots on the Wayback Machine was organised into an MS Access database for subsequent analysis."
   ]
  },
  {
   "cell_type": "markdown",
   "metadata": {},
   "source": [
    "The database includes several tables and displays the following information:\n",
    "1.\tname of the platform;\n",
    "2.\tdirection (fanart, fanfiction, research, multipurpose);\n",
    "3.\tscope (mono-fandom, multi-fandom);\n",
    "4.\tname of the fandom;\n",
    "5.\tnational belonging (national, international);\n",
    "6.\tcountry;\n",
    "7.\tyear of its creation;\n",
    "8.\tpeak of the activity (year);\n",
    "9.\tyear of closure;\n",
    "10.\tscope of the audience;\n",
    "11.\ttype of fanwork;\n",
    "12.\t and some others. "
   ]
  },
  {
   "cell_type": "markdown",
   "metadata": {},
   "source": [
    "The selected fandoms and the web platforms on which they develop (or have developed) were entered into the database according to the following algorithm: first, the name of a particular platform on which the community is organised is entered (column \"Platform name\"), a particular format in which fan works are presented on the platform - fan fiction, fan art, fan video, etc. (column \"Format\"); whether the web platform is mono-fandom or multi-fandom (column \"Fandom\"), and, if mono-fandom, the next fandom name is entered into the next column \"Fandom\" by substituting the name of the fandom with the name of the platform (the \"Format\" column); whether this web platform is mono-fandom or multi-fandom, and if it is mono-fandom, the next fandom name is entered in the next \"Fandom\" column by substitution from the corresponding row of the \"Fandoms\" table. Then, such aspects as the national or international web platform are indicated (the \"National/International\" column), and the columns \"Country of creation\", \"Year of creation\", \"Peak of activity\", and \"Year of closure\" are filled in (if the web platform is running, a dash is indicated). The corresponding links are entered in the \"Link to website\" and \"Link to web archive\" columns. Another important column is the \"Audience\" column, which aims to classify web platforms according to the number of participants. In order to classify websites according to the number of users, it seemed appropriate to introduce a certain system: a small audience - up to 500 users; an average audience - from 500 to 1000 users; and a large audience - from 1000 users of a particular website."
   ]
  },
  {
   "cell_type": "markdown",
   "metadata": {},
   "source": [
    "60 platforms of fan creativity from the English (50) and Russian (10) language domains were identified for analysis."
   ]
  },
  {
   "cell_type": "markdown",
   "metadata": {},
   "source": [
    "Table 1: English-Speaking Fandoms"
   ]
  },
  {
   "cell_type": "code",
   "execution_count": 28,
   "metadata": {
    "tags": [
     "hermeneutics",
     "table-1"
    ]
   },
   "outputs": [
    {
     "data": {
      "text/html": [
       "<div>\n",
       "<style scoped>\n",
       "    .dataframe tbody tr th:only-of-type {\n",
       "        vertical-align: middle;\n",
       "    }\n",
       "\n",
       "    .dataframe tbody tr th {\n",
       "        vertical-align: top;\n",
       "    }\n",
       "\n",
       "    .dataframe thead th {\n",
       "        text-align: right;\n",
       "    }\n",
       "</style>\n",
       "<table border=\"1\" class=\"dataframe\">\n",
       "  <thead>\n",
       "    <tr style=\"text-align: right;\">\n",
       "      <th></th>\n",
       "      <th>key</th>\n",
       "      <th>title</th>\n",
       "      <th>directions</th>\n",
       "      <th>fandom/multifandom</th>\n",
       "      <th>national/international</th>\n",
       "      <th>country of creation</th>\n",
       "      <th>year of creation</th>\n",
       "      <th>peak activity</th>\n",
       "      <th>year of closure</th>\n",
       "      <th>website</th>\n",
       "      <th>web archive</th>\n",
       "      <th>audience</th>\n",
       "      <th>main directions</th>\n",
       "    </tr>\n",
       "  </thead>\n",
       "  <tbody>\n",
       "    <tr>\n",
       "      <th>0</th>\n",
       "      <td>1</td>\n",
       "      <td>Gossamer</td>\n",
       "      <td>fanfiction</td>\n",
       "      <td>fandom</td>\n",
       "      <td>international</td>\n",
       "      <td>USA</td>\n",
       "      <td>1999</td>\n",
       "      <td>2015</td>\n",
       "      <td>-</td>\n",
       "      <td>http://fluky.gossamer.org/</td>\n",
       "      <td>https://web.archive.org/web/19990801000000*/http://fluky.gossamer.org/</td>\n",
       "      <td>small</td>\n",
       "      <td>mixed</td>\n",
       "    </tr>\n",
       "    <tr>\n",
       "      <th>1</th>\n",
       "      <td>2</td>\n",
       "      <td>GSSU (German Speaking Slashers United)</td>\n",
       "      <td>fanfiction</td>\n",
       "      <td>multifandom</td>\n",
       "      <td>international</td>\n",
       "      <td>Germany</td>\n",
       "      <td>2000</td>\n",
       "      <td>2007</td>\n",
       "      <td>2012</td>\n",
       "      <td>http://skybs.slashcity.net/gssu/main.html</td>\n",
       "      <td>https://web.archive.org/web/20160501000000*/https://ficbook.net</td>\n",
       "      <td>large</td>\n",
       "      <td>slash</td>\n",
       "    </tr>\n",
       "    <tr>\n",
       "      <th>2</th>\n",
       "      <td>3</td>\n",
       "      <td>Archive of Our Own (AO3)</td>\n",
       "      <td>multi</td>\n",
       "      <td>multifandom</td>\n",
       "      <td>international</td>\n",
       "      <td>USA</td>\n",
       "      <td>2008</td>\n",
       "      <td>2020</td>\n",
       "      <td>-</td>\n",
       "      <td>Archive of Our Own (AO3)</td>\n",
       "      <td>https://web.archive.org/web/20200101000000*/https://www.archiveofourown.org/</td>\n",
       "      <td>large</td>\n",
       "      <td>slash</td>\n",
       "    </tr>\n",
       "    <tr>\n",
       "      <th>3</th>\n",
       "      <td>4</td>\n",
       "      <td>FanFiction</td>\n",
       "      <td>fanfiction</td>\n",
       "      <td>multifandom</td>\n",
       "      <td>international</td>\n",
       "      <td>USA</td>\n",
       "      <td>1998</td>\n",
       "      <td>2013</td>\n",
       "      <td>-</td>\n",
       "      <td>https://www.fanfiction.net/</td>\n",
       "      <td>https://web.archive.org/web/19990115000000*/https://www.fanfiction.net/</td>\n",
       "      <td>average</td>\n",
       "      <td>mixed</td>\n",
       "    </tr>\n",
       "    <tr>\n",
       "      <th>4</th>\n",
       "      <td>5</td>\n",
       "      <td>Tumblr</td>\n",
       "      <td>fanart</td>\n",
       "      <td>multifandom</td>\n",
       "      <td>international</td>\n",
       "      <td>USA</td>\n",
       "      <td>2007</td>\n",
       "      <td>2019</td>\n",
       "      <td>-</td>\n",
       "      <td>https://www.tumblr.com/</td>\n",
       "      <td>https://web.archive.org/web/20191001000000*/https://www.tumblr.com/</td>\n",
       "      <td>large</td>\n",
       "      <td>mixed</td>\n",
       "    </tr>\n",
       "    <tr>\n",
       "      <th>5</th>\n",
       "      <td>6</td>\n",
       "      <td>Wattpad</td>\n",
       "      <td>fanfiction</td>\n",
       "      <td>multifandom</td>\n",
       "      <td>international</td>\n",
       "      <td>Canada</td>\n",
       "      <td>2006</td>\n",
       "      <td>NaN</td>\n",
       "      <td>-</td>\n",
       "      <td>https://www.wattpad.com/</td>\n",
       "      <td>NaN</td>\n",
       "      <td>large</td>\n",
       "      <td>het</td>\n",
       "    </tr>\n",
       "    <tr>\n",
       "      <th>6</th>\n",
       "      <td>7</td>\n",
       "      <td>Fanhackers</td>\n",
       "      <td>researches</td>\n",
       "      <td>multifandom</td>\n",
       "      <td>international</td>\n",
       "      <td>USA</td>\n",
       "      <td>2013</td>\n",
       "      <td>2016</td>\n",
       "      <td>-</td>\n",
       "      <td>https://fanhackers.tumblr.com/</td>\n",
       "      <td>https://web.archive.org/web/*/https://fanhackers.tumblr.com/</td>\n",
       "      <td>large</td>\n",
       "      <td>mixed</td>\n",
       "    </tr>\n",
       "    <tr>\n",
       "      <th>7</th>\n",
       "      <td>8</td>\n",
       "      <td>Fanlore</td>\n",
       "      <td>multi</td>\n",
       "      <td>multifandom</td>\n",
       "      <td>international</td>\n",
       "      <td>NaN</td>\n",
       "      <td>2008</td>\n",
       "      <td>2010</td>\n",
       "      <td>-</td>\n",
       "      <td>https://fanlore.org/wiki</td>\n",
       "      <td>https://web.archive.org/web/20081115000000*/https://fanlore.org/</td>\n",
       "      <td>large</td>\n",
       "      <td>mixed</td>\n",
       "    </tr>\n",
       "    <tr>\n",
       "      <th>8</th>\n",
       "      <td>9</td>\n",
       "      <td>Twitter</td>\n",
       "      <td>multi</td>\n",
       "      <td>multifandom</td>\n",
       "      <td>international</td>\n",
       "      <td>USA</td>\n",
       "      <td>2001</td>\n",
       "      <td>2019</td>\n",
       "      <td>-</td>\n",
       "      <td>https://twitter.com/</td>\n",
       "      <td>https://web.archive.org/web/20081115000000*/https://twitter.com/</td>\n",
       "      <td>large</td>\n",
       "      <td>het</td>\n",
       "    </tr>\n",
       "    <tr>\n",
       "      <th>9</th>\n",
       "      <td>10</td>\n",
       "      <td>Fan Culture Preservation Project</td>\n",
       "      <td>multi</td>\n",
       "      <td>multifandom</td>\n",
       "      <td>international</td>\n",
       "      <td>NaN</td>\n",
       "      <td>2014</td>\n",
       "      <td>2016</td>\n",
       "      <td>-</td>\n",
       "      <td>https://www.lib.uiowa.edu/sc/resources/FandomResources/</td>\n",
       "      <td>https://web.archive.org/web/20140501000000*/http://collguides.lib.uiowa.edu/?MSC0320</td>\n",
       "      <td>average</td>\n",
       "      <td>mixed</td>\n",
       "    </tr>\n",
       "    <tr>\n",
       "      <th>10</th>\n",
       "      <td>11</td>\n",
       "      <td>Transformative Works and Cultures</td>\n",
       "      <td>researches</td>\n",
       "      <td>multifandom</td>\n",
       "      <td>international</td>\n",
       "      <td>NaN</td>\n",
       "      <td>2008</td>\n",
       "      <td>2012</td>\n",
       "      <td>-</td>\n",
       "      <td>https://journal.transformativeworks.org/index.php/twc</td>\n",
       "      <td>https://web.archive.org/web/20140501000000*/https://journal.transformativeworks.org/index.php/twc</td>\n",
       "      <td>average</td>\n",
       "      <td>slash</td>\n",
       "    </tr>\n",
       "    <tr>\n",
       "      <th>11</th>\n",
       "      <td>12</td>\n",
       "      <td>Livejournal</td>\n",
       "      <td>multi</td>\n",
       "      <td>multifandom</td>\n",
       "      <td>international</td>\n",
       "      <td>USA</td>\n",
       "      <td>1999</td>\n",
       "      <td>2013</td>\n",
       "      <td>-</td>\n",
       "      <td>https://www.livejournal.com/</td>\n",
       "      <td>https://web.archive.org/web/20140501000000*/https://www.livejournal.com/</td>\n",
       "      <td>large</td>\n",
       "      <td>het</td>\n",
       "    </tr>\n",
       "    <tr>\n",
       "      <th>12</th>\n",
       "      <td>13</td>\n",
       "      <td>Oded Fehr Weaver Of Dreams</td>\n",
       "      <td>fanfiction</td>\n",
       "      <td>fandom</td>\n",
       "      <td>international</td>\n",
       "      <td>USA</td>\n",
       "      <td>2001</td>\n",
       "      <td>2005</td>\n",
       "      <td>2011</td>\n",
       "      <td>http://www.fehrdreams.net/</td>\n",
       "      <td>http://web.archive.org/web/20051025045413/http://www.fehrdreams.net/</td>\n",
       "      <td>small</td>\n",
       "      <td>het</td>\n",
       "    </tr>\n",
       "    <tr>\n",
       "      <th>13</th>\n",
       "      <td>14</td>\n",
       "      <td>Buffy / Giles Fanfiction Архив</td>\n",
       "      <td>fanfiction</td>\n",
       "      <td>fandom</td>\n",
       "      <td>national</td>\n",
       "      <td>USA</td>\n",
       "      <td>1999</td>\n",
       "      <td>2004</td>\n",
       "      <td>2010</td>\n",
       "      <td>http://bgshippers.com/</td>\n",
       "      <td>https://web.archive.org/web/19991115123236/http://bgshippers.com/</td>\n",
       "      <td>small</td>\n",
       "      <td>het</td>\n",
       "    </tr>\n",
       "    <tr>\n",
       "      <th>14</th>\n",
       "      <td>15</td>\n",
       "      <td>West of the Moon</td>\n",
       "      <td>fanfiction</td>\n",
       "      <td>fandom</td>\n",
       "      <td>national</td>\n",
       "      <td>USA</td>\n",
       "      <td>2003</td>\n",
       "      <td>2007</td>\n",
       "      <td>2020</td>\n",
       "      <td>http://www.west-of-the-moon.net</td>\n",
       "      <td>NaN</td>\n",
       "      <td>average</td>\n",
       "      <td>gen</td>\n",
       "    </tr>\n",
       "    <tr>\n",
       "      <th>15</th>\n",
       "      <td>16</td>\n",
       "      <td>Lotrfanfiction.com</td>\n",
       "      <td>fanfiction</td>\n",
       "      <td>fandom</td>\n",
       "      <td>international</td>\n",
       "      <td>USA</td>\n",
       "      <td>2004</td>\n",
       "      <td>2007; 2011</td>\n",
       "      <td>-</td>\n",
       "      <td>http://www.lotrfanfiction.com/</td>\n",
       "      <td>https://web.archive.org/web/20190405182424/http://www.lotrfanfiction.com/index.php</td>\n",
       "      <td>average</td>\n",
       "      <td>het</td>\n",
       "    </tr>\n",
       "    <tr>\n",
       "      <th>16</th>\n",
       "      <td>17</td>\n",
       "      <td>Thin Line</td>\n",
       "      <td>fanfiction</td>\n",
       "      <td>fandom</td>\n",
       "      <td>national</td>\n",
       "      <td>USA</td>\n",
       "      <td>2001</td>\n",
       "      <td>2003</td>\n",
       "      <td>2011</td>\n",
       "      <td>www26.brinkster.com/sssb/</td>\n",
       "      <td>-</td>\n",
       "      <td>small</td>\n",
       "      <td>slash</td>\n",
       "    </tr>\n",
       "    <tr>\n",
       "      <th>17</th>\n",
       "      <td>18</td>\n",
       "      <td>Gilmore Girls Slash</td>\n",
       "      <td>fanfiction</td>\n",
       "      <td>fandom</td>\n",
       "      <td>national</td>\n",
       "      <td>USA</td>\n",
       "      <td>2001</td>\n",
       "      <td>2004</td>\n",
       "      <td>2017</td>\n",
       "      <td>https://www.yahoo.com/</td>\n",
       "      <td>-</td>\n",
       "      <td>small</td>\n",
       "      <td>slash</td>\n",
       "    </tr>\n",
       "    <tr>\n",
       "      <th>18</th>\n",
       "      <td>19</td>\n",
       "      <td>FrodoHealers</td>\n",
       "      <td>fanfiction</td>\n",
       "      <td>fandom</td>\n",
       "      <td>national</td>\n",
       "      <td>Great Britain</td>\n",
       "      <td>2002</td>\n",
       "      <td>NaN</td>\n",
       "      <td>-</td>\n",
       "      <td>NaN</td>\n",
       "      <td>NaN</td>\n",
       "      <td>average</td>\n",
       "      <td>gen</td>\n",
       "    </tr>\n",
       "    <tr>\n",
       "      <th>19</th>\n",
       "      <td>20</td>\n",
       "      <td>The Croft Codex</td>\n",
       "      <td>fanfiction</td>\n",
       "      <td>fandom</td>\n",
       "      <td>national</td>\n",
       "      <td>USA</td>\n",
       "      <td>2005</td>\n",
       "      <td>NaN</td>\n",
       "      <td>2008</td>\n",
       "      <td>http://www.croftcodex.net/</td>\n",
       "      <td>NaN</td>\n",
       "      <td>small</td>\n",
       "      <td>het</td>\n",
       "    </tr>\n",
       "    <tr>\n",
       "      <th>20</th>\n",
       "      <td>21</td>\n",
       "      <td>Will Remember You (IWRY) Fic Marathon</td>\n",
       "      <td>fanfiction</td>\n",
       "      <td>fandom</td>\n",
       "      <td>national</td>\n",
       "      <td>USA</td>\n",
       "      <td>2004</td>\n",
       "      <td>2011</td>\n",
       "      <td>-</td>\n",
       "      <td>https://iwry-marathon.livejournal.com/</td>\n",
       "      <td>NaN</td>\n",
       "      <td>small</td>\n",
       "      <td>mixed</td>\n",
       "    </tr>\n",
       "    <tr>\n",
       "      <th>21</th>\n",
       "      <td>22</td>\n",
       "      <td>Sublime</td>\n",
       "      <td>fanfiction</td>\n",
       "      <td>fandom</td>\n",
       "      <td>national</td>\n",
       "      <td>USA</td>\n",
       "      <td>2004</td>\n",
       "      <td>2007</td>\n",
       "      <td>2012</td>\n",
       "      <td>http://www.octavesoftheheart.com/sublime/</td>\n",
       "      <td>https://web.archive.org/web/20180927143015/http://www.octavesoftheheart.com/sublime/</td>\n",
       "      <td>small</td>\n",
       "      <td>het</td>\n",
       "    </tr>\n",
       "    <tr>\n",
       "      <th>22</th>\n",
       "      <td>23</td>\n",
       "      <td>SpringFen</td>\n",
       "      <td>fanfiction</td>\n",
       "      <td>fandom</td>\n",
       "      <td>international</td>\n",
       "      <td>USA</td>\n",
       "      <td>2005</td>\n",
       "      <td>2013</td>\n",
       "      <td>-</td>\n",
       "      <td>http://springfen.52togetherforever.com/forum/dz/index.php</td>\n",
       "      <td>https://web.archive.org/web/2019*/http://springfen.52togetherforever.com/forum/dz/index.php</td>\n",
       "      <td>average</td>\n",
       "      <td>slash</td>\n",
       "    </tr>\n",
       "    <tr>\n",
       "      <th>23</th>\n",
       "      <td>24</td>\n",
       "      <td>Rawhide-fic</td>\n",
       "      <td>fanfiction</td>\n",
       "      <td>fandom</td>\n",
       "      <td>national</td>\n",
       "      <td>USA</td>\n",
       "      <td>2002</td>\n",
       "      <td>2003</td>\n",
       "      <td>2008</td>\n",
       "      <td>http://lupous.net/rawhide/fiction.html</td>\n",
       "      <td>http://lupous.net/rawhide/fiction.html</td>\n",
       "      <td>small</td>\n",
       "      <td>mixed</td>\n",
       "    </tr>\n",
       "    <tr>\n",
       "      <th>24</th>\n",
       "      <td>25</td>\n",
       "      <td>TER/MA</td>\n",
       "      <td>fanfiction</td>\n",
       "      <td>fandom</td>\n",
       "      <td>international</td>\n",
       "      <td>USA</td>\n",
       "      <td>1999</td>\n",
       "      <td>2017</td>\n",
       "      <td>2008(-)</td>\n",
       "      <td>http://www.ditb.org/terma/</td>\n",
       "      <td>https://web.archive.org/web/2019*/http://www.ditb.org/terma/</td>\n",
       "      <td>small</td>\n",
       "      <td>slash</td>\n",
       "    </tr>\n",
       "    <tr>\n",
       "      <th>25</th>\n",
       "      <td>26</td>\n",
       "      <td>DoyleCordy</td>\n",
       "      <td>fanfiction</td>\n",
       "      <td>fandom</td>\n",
       "      <td>national</td>\n",
       "      <td>USA</td>\n",
       "      <td>1999</td>\n",
       "      <td>NaN</td>\n",
       "      <td>2002</td>\n",
       "      <td>-</td>\n",
       "      <td>-</td>\n",
       "      <td>small</td>\n",
       "      <td>het</td>\n",
       "    </tr>\n",
       "    <tr>\n",
       "      <th>26</th>\n",
       "      <td>27</td>\n",
       "      <td>Watchmen Kinkmeme</td>\n",
       "      <td>fanfiction</td>\n",
       "      <td>fandom</td>\n",
       "      <td>national</td>\n",
       "      <td>USA</td>\n",
       "      <td>2008</td>\n",
       "      <td>2013</td>\n",
       "      <td>-</td>\n",
       "      <td>https://spam-monster.livejournal.com/</td>\n",
       "      <td>https://web.archive.org/web/2019*/https://spam-monster.livejournal.com/</td>\n",
       "      <td>small</td>\n",
       "      <td>het</td>\n",
       "    </tr>\n",
       "    <tr>\n",
       "      <th>27</th>\n",
       "      <td>28</td>\n",
       "      <td>Side by Side</td>\n",
       "      <td>multi</td>\n",
       "      <td>fandom</td>\n",
       "      <td>international</td>\n",
       "      <td>USA</td>\n",
       "      <td>2001</td>\n",
       "      <td>2013</td>\n",
       "      <td>-</td>\n",
       "      <td>http://www.kardasi.com/SBS/sbsmain.htm</td>\n",
       "      <td>http://web.archive.org/web/20080120200738fw_/http://www.kardasi.com/SBS/sbsmain.htm</td>\n",
       "      <td>average</td>\n",
       "      <td>slash</td>\n",
       "    </tr>\n",
       "    <tr>\n",
       "      <th>28</th>\n",
       "      <td>29</td>\n",
       "      <td>Underground</td>\n",
       "      <td>multi</td>\n",
       "      <td>fandom</td>\n",
       "      <td>international</td>\n",
       "      <td>USA</td>\n",
       "      <td>2008</td>\n",
       "      <td>2009</td>\n",
       "      <td>2013</td>\n",
       "      <td>http://labyrinth.retrogression.org/</td>\n",
       "      <td>https://web.archive.org/web/2019*/http://labyrinth.retrogression.org/</td>\n",
       "      <td>small</td>\n",
       "      <td>het</td>\n",
       "    </tr>\n",
       "    <tr>\n",
       "      <th>29</th>\n",
       "      <td>30</td>\n",
       "      <td>Tom Paris Dorm</td>\n",
       "      <td>fanfiction</td>\n",
       "      <td>fandom</td>\n",
       "      <td>international</td>\n",
       "      <td>USA</td>\n",
       "      <td>2000</td>\n",
       "      <td>2005</td>\n",
       "      <td>-</td>\n",
       "      <td>http://www.tomparisdorm.com/</td>\n",
       "      <td>https://web.archive.org/web/2019*/http://www.tomparisdorm.com/</td>\n",
       "      <td>average</td>\n",
       "      <td>slash</td>\n",
       "    </tr>\n",
       "    <tr>\n",
       "      <th>30</th>\n",
       "      <td>31</td>\n",
       "      <td>Twice Bitten</td>\n",
       "      <td>fanfiction</td>\n",
       "      <td>fandom</td>\n",
       "      <td>national</td>\n",
       "      <td>USA</td>\n",
       "      <td>2007</td>\n",
       "      <td>2010</td>\n",
       "      <td>-</td>\n",
       "      <td>http://bloodties-fans.com/</td>\n",
       "      <td>https://web.archive.org/web/2019*/http://bloodties-fans.com/</td>\n",
       "      <td>small</td>\n",
       "      <td>mixed</td>\n",
       "    </tr>\n",
       "    <tr>\n",
       "      <th>31</th>\n",
       "      <td>32</td>\n",
       "      <td>Elusive Lover (Star Wars archive)</td>\n",
       "      <td>fanart;fanfiction</td>\n",
       "      <td>fandom</td>\n",
       "      <td>international</td>\n",
       "      <td>USA</td>\n",
       "      <td>2000</td>\n",
       "      <td>2005</td>\n",
       "      <td>2013</td>\n",
       "      <td>http://www.elusive-lover.de</td>\n",
       "      <td>https://web.archive.org/web/2019*/%20http://www.elusive-lover.de</td>\n",
       "      <td>average</td>\n",
       "      <td>slash</td>\n",
       "    </tr>\n",
       "    <tr>\n",
       "      <th>32</th>\n",
       "      <td>33</td>\n",
       "      <td>Fandom wiki</td>\n",
       "      <td>multi</td>\n",
       "      <td>multifandom</td>\n",
       "      <td>international</td>\n",
       "      <td>Great Britain</td>\n",
       "      <td>1998</td>\n",
       "      <td>2019</td>\n",
       "      <td>-</td>\n",
       "      <td>https://www.fandom.com/</td>\n",
       "      <td>https://web.archive.org/web/2019*/https://www.fandom.com/</td>\n",
       "      <td>large</td>\n",
       "      <td>mixed</td>\n",
       "    </tr>\n",
       "    <tr>\n",
       "      <th>33</th>\n",
       "      <td>34</td>\n",
       "      <td>Obidala Network</td>\n",
       "      <td>fanfiction</td>\n",
       "      <td>fandom</td>\n",
       "      <td>national</td>\n",
       "      <td>USA</td>\n",
       "      <td>2002</td>\n",
       "      <td>2009</td>\n",
       "      <td>2017</td>\n",
       "      <td>http://obidala.net/</td>\n",
       "      <td>https://web.archive.org/web/2019*/http://obidala.net/</td>\n",
       "      <td>small</td>\n",
       "      <td>het</td>\n",
       "    </tr>\n",
       "    <tr>\n",
       "      <th>34</th>\n",
       "      <td>35</td>\n",
       "      <td>Glass Onion</td>\n",
       "      <td>fanart;fanfiction</td>\n",
       "      <td>multifandom</td>\n",
       "      <td>international</td>\n",
       "      <td>USA</td>\n",
       "      <td>2001</td>\n",
       "      <td>2004</td>\n",
       "      <td>2018</td>\n",
       "      <td>http://groups.yahoo.com/group/Glass_Onion/</td>\n",
       "      <td>https://web.archive.org/web/20121024014047/http://groups.yahoo.com/group/Glass_Onion/</td>\n",
       "      <td>small</td>\n",
       "      <td>mixed</td>\n",
       "    </tr>\n",
       "    <tr>\n",
       "      <th>35</th>\n",
       "      <td>36</td>\n",
       "      <td>Glow Firefly</td>\n",
       "      <td>fanfiction</td>\n",
       "      <td>multifandom</td>\n",
       "      <td>international</td>\n",
       "      <td>USA</td>\n",
       "      <td>2002</td>\n",
       "      <td>2006</td>\n",
       "      <td>2018</td>\n",
       "      <td>http://firefly.populli.org/</td>\n",
       "      <td>https://web.archive.org/web/2019*/http://firefly.populli.org/</td>\n",
       "      <td>small</td>\n",
       "      <td>mixed</td>\n",
       "    </tr>\n",
       "    <tr>\n",
       "      <th>36</th>\n",
       "      <td>37</td>\n",
       "      <td>Soul Circuit</td>\n",
       "      <td>fanfiction</td>\n",
       "      <td>fandom</td>\n",
       "      <td>international</td>\n",
       "      <td>USA</td>\n",
       "      <td>2001</td>\n",
       "      <td>NaN</td>\n",
       "      <td>2019</td>\n",
       "      <td>-</td>\n",
       "      <td>-</td>\n",
       "      <td>small</td>\n",
       "      <td>slash</td>\n",
       "    </tr>\n",
       "    <tr>\n",
       "      <th>37</th>\n",
       "      <td>38</td>\n",
       "      <td>Alpha Gate</td>\n",
       "      <td>fanfiction</td>\n",
       "      <td>fandom</td>\n",
       "      <td>national</td>\n",
       "      <td>USA</td>\n",
       "      <td>2001</td>\n",
       "      <td>2005</td>\n",
       "      <td></td>\n",
       "      <td>http://www.thealphagate.com/</td>\n",
       "      <td>https://web.archive.org/web/2019*/http://www.thealphagate.com/</td>\n",
       "      <td>small</td>\n",
       "      <td>mixed</td>\n",
       "    </tr>\n",
       "    <tr>\n",
       "      <th>38</th>\n",
       "      <td>39</td>\n",
       "      <td>Born For War</td>\n",
       "      <td>fanfiction</td>\n",
       "      <td>multifandom</td>\n",
       "      <td>international</td>\n",
       "      <td>USA</td>\n",
       "      <td>2000</td>\n",
       "      <td>2007</td>\n",
       "      <td>2015</td>\n",
       "      <td>http://bleeding-heart.net/bfw/</td>\n",
       "      <td>https://web.archive.org/web/20150708220307/http://bleeding-heart.net/bfw/</td>\n",
       "      <td>small</td>\n",
       "      <td>het</td>\n",
       "    </tr>\n",
       "    <tr>\n",
       "      <th>39</th>\n",
       "      <td>40</td>\n",
       "      <td>The Fenspace Collective</td>\n",
       "      <td>multi</td>\n",
       "      <td>fandom</td>\n",
       "      <td>national</td>\n",
       "      <td>USA</td>\n",
       "      <td>2011</td>\n",
       "      <td>2019</td>\n",
       "      <td>NaN</td>\n",
       "      <td>http://www.accessdenied-rms.net/forums/</td>\n",
       "      <td>https://web.archive.org/web/*/http://www.accessdenied-rms.net</td>\n",
       "      <td>small</td>\n",
       "      <td>het</td>\n",
       "    </tr>\n",
       "    <tr>\n",
       "      <th>40</th>\n",
       "      <td>41</td>\n",
       "      <td>Slashers United</td>\n",
       "      <td>fanfiction</td>\n",
       "      <td>multifandom</td>\n",
       "      <td>national</td>\n",
       "      <td>Germany</td>\n",
       "      <td>2000</td>\n",
       "      <td>2007</td>\n",
       "      <td>2012</td>\n",
       "      <td>http://skybs.slashcity.net/gssu/main.html</td>\n",
       "      <td>https://web.archive.org/web/2021*/http://skybs.slashcity.net/gssu/main.html</td>\n",
       "      <td>average</td>\n",
       "      <td>slash</td>\n",
       "    </tr>\n",
       "    <tr>\n",
       "      <th>41</th>\n",
       "      <td>42</td>\n",
       "      <td>Sentinel</td>\n",
       "      <td>fanfiction</td>\n",
       "      <td>fandom</td>\n",
       "      <td>national</td>\n",
       "      <td>USA</td>\n",
       "      <td>1996</td>\n",
       "      <td>2001</td>\n",
       "      <td>2009</td>\n",
       "      <td>NaN</td>\n",
       "      <td>https://web.archive.org/web/20090730184047/http://www.852prospect.org/archive/index.html</td>\n",
       "      <td>average</td>\n",
       "      <td>slash</td>\n",
       "    </tr>\n",
       "    <tr>\n",
       "      <th>42</th>\n",
       "      <td>43</td>\n",
       "      <td>The Good Omens Library</td>\n",
       "      <td>fanfiction</td>\n",
       "      <td>fandom</td>\n",
       "      <td>national</td>\n",
       "      <td>USA</td>\n",
       "      <td>2005</td>\n",
       "      <td>NaN</td>\n",
       "      <td>NaN</td>\n",
       "      <td>NaN</td>\n",
       "      <td>https://web.archive.org/web/2021*/http://skybs.slashcity.net/gssu/main.html</td>\n",
       "      <td>average</td>\n",
       "      <td>slash</td>\n",
       "    </tr>\n",
       "    <tr>\n",
       "      <th>43</th>\n",
       "      <td>44</td>\n",
       "      <td>StargateFan</td>\n",
       "      <td>multi</td>\n",
       "      <td>fandom</td>\n",
       "      <td>national</td>\n",
       "      <td>USA</td>\n",
       "      <td>2000</td>\n",
       "      <td>2005</td>\n",
       "      <td>NaN</td>\n",
       "      <td>http://www.stargatefan.com/</td>\n",
       "      <td>https://web.archive.org/web/2021*/http://www.stargatefan.com/</td>\n",
       "      <td>small</td>\n",
       "      <td>gen</td>\n",
       "    </tr>\n",
       "    <tr>\n",
       "      <th>44</th>\n",
       "      <td>45</td>\n",
       "      <td>Boys in Chains</td>\n",
       "      <td>fanfiction</td>\n",
       "      <td>multifandom</td>\n",
       "      <td>national</td>\n",
       "      <td>USA</td>\n",
       "      <td>2004</td>\n",
       "      <td>2005</td>\n",
       "      <td>2013</td>\n",
       "      <td>NaN</td>\n",
       "      <td>http://web.archive.org/web/20040805182531/http://www.boysinchains.org/</td>\n",
       "      <td>small</td>\n",
       "      <td>slash</td>\n",
       "    </tr>\n",
       "    <tr>\n",
       "      <th>45</th>\n",
       "      <td>46</td>\n",
       "      <td>Monaboyd</td>\n",
       "      <td>fanfiction</td>\n",
       "      <td>fandom</td>\n",
       "      <td>national</td>\n",
       "      <td>USA</td>\n",
       "      <td>2003</td>\n",
       "      <td>2004</td>\n",
       "      <td>2018</td>\n",
       "      <td>http://monaboyd.net/</td>\n",
       "      <td>https://web.archive.org/web/*/http://monaboyd.net/</td>\n",
       "      <td>small</td>\n",
       "      <td>slash</td>\n",
       "    </tr>\n",
       "    <tr>\n",
       "      <th>46</th>\n",
       "      <td>47</td>\n",
       "      <td>Ink Stained Fingers</td>\n",
       "      <td>fanfiction; fanart</td>\n",
       "      <td>fandom</td>\n",
       "      <td>national</td>\n",
       "      <td>USA</td>\n",
       "      <td>2004</td>\n",
       "      <td>2005</td>\n",
       "      <td>NaN</td>\n",
       "      <td>http://inkstain.inkquill.net/</td>\n",
       "      <td>https://web.archive.org/web/*/http://inkstain.inkquill.net/</td>\n",
       "      <td>average</td>\n",
       "      <td>mixed</td>\n",
       "    </tr>\n",
       "    <tr>\n",
       "      <th>47</th>\n",
       "      <td>48</td>\n",
       "      <td>Hermit Library</td>\n",
       "      <td>fanfiction</td>\n",
       "      <td>fandom</td>\n",
       "      <td>national</td>\n",
       "      <td>USA</td>\n",
       "      <td>2000</td>\n",
       "      <td>2004</td>\n",
       "      <td>2015</td>\n",
       "      <td>http://www.hermit.org/blakes7/Library/SrchReq.cgi</td>\n",
       "      <td>https://web.archive.org/web/2021*/http://www.hermit.org/blakes7/Library/SrchReq.cgi</td>\n",
       "      <td>large</td>\n",
       "      <td>mixed</td>\n",
       "    </tr>\n",
       "    <tr>\n",
       "      <th>48</th>\n",
       "      <td>49</td>\n",
       "      <td>Born For War</td>\n",
       "      <td>fanfiction</td>\n",
       "      <td>multifandom</td>\n",
       "      <td>national</td>\n",
       "      <td>USA</td>\n",
       "      <td>2000</td>\n",
       "      <td>2006</td>\n",
       "      <td>2015</td>\n",
       "      <td>http://bleeding-heart.net/bfw</td>\n",
       "      <td>https://web.archive.org/web/20150708220307/http://bleeding-heart.net/bfw/</td>\n",
       "      <td>large</td>\n",
       "      <td>mixed</td>\n",
       "    </tr>\n",
       "    <tr>\n",
       "      <th>49</th>\n",
       "      <td>50</td>\n",
       "      <td>\\tPretty Lights</td>\n",
       "      <td>fanfiction</td>\n",
       "      <td>multifandom</td>\n",
       "      <td>national</td>\n",
       "      <td>USA</td>\n",
       "      <td>2005</td>\n",
       "      <td>2007</td>\n",
       "      <td>2010</td>\n",
       "      <td>http://prettylights.compromisingpositions.net/</td>\n",
       "      <td>https://web.archive.org/web/20071001000000*/http://prettylights.compromisingpositions.net/</td>\n",
       "      <td>average</td>\n",
       "      <td>slash</td>\n",
       "    </tr>\n",
       "  </tbody>\n",
       "</table>\n",
       "</div>"
      ],
      "text/plain": [
       "    key                                   title          directions fandom/multifandom national/international country of creation  year of creation peak activity year of closure                                                    website                                                                                        web archive audience main directions\n",
       "0     1                                Gossamer          fanfiction             fandom          international                 USA              1999          2015               -                                 http://fluky.gossamer.org/                             https://web.archive.org/web/19990801000000*/http://fluky.gossamer.org/    small           mixed\n",
       "1     2  GSSU (German Speaking Slashers United)          fanfiction        multifandom          international             Germany              2000          2007            2012                  http://skybs.slashcity.net/gssu/main.html                                    https://web.archive.org/web/20160501000000*/https://ficbook.net    large           slash\n",
       "2     3                Archive of Our Own (AO3)               multi        multifandom          international                 USA              2008          2020               -                                   Archive of Our Own (AO3)                       https://web.archive.org/web/20200101000000*/https://www.archiveofourown.org/    large           slash\n",
       "3     4                              FanFiction          fanfiction        multifandom          international                 USA              1998          2013               -                                https://www.fanfiction.net/                            https://web.archive.org/web/19990115000000*/https://www.fanfiction.net/  average           mixed\n",
       "4     5                                  Tumblr              fanart        multifandom          international                 USA              2007          2019               -                                    https://www.tumblr.com/                                https://web.archive.org/web/20191001000000*/https://www.tumblr.com/    large           mixed\n",
       "5     6                                 Wattpad          fanfiction        multifandom          international              Canada              2006           NaN               -                                   https://www.wattpad.com/                                                                                                NaN    large             het\n",
       "6     7                              Fanhackers          researches        multifandom          international                 USA              2013          2016               -                             https://fanhackers.tumblr.com/                                       https://web.archive.org/web/*/https://fanhackers.tumblr.com/    large           mixed\n",
       "7     8                                 Fanlore               multi        multifandom          international                 NaN              2008          2010               -                                   https://fanlore.org/wiki                                   https://web.archive.org/web/20081115000000*/https://fanlore.org/    large           mixed\n",
       "8     9                                 Twitter               multi        multifandom          international                 USA              2001          2019               -                                       https://twitter.com/                                   https://web.archive.org/web/20081115000000*/https://twitter.com/    large             het\n",
       "9    10        Fan Culture Preservation Project               multi        multifandom          international                 NaN              2014          2016               -    https://www.lib.uiowa.edu/sc/resources/FandomResources/               https://web.archive.org/web/20140501000000*/http://collguides.lib.uiowa.edu/?MSC0320  average           mixed\n",
       "10   11       Transformative Works and Cultures          researches        multifandom          international                 NaN              2008          2012               -      https://journal.transformativeworks.org/index.php/twc  https://web.archive.org/web/20140501000000*/https://journal.transformativeworks.org/index.php/twc  average           slash\n",
       "11   12                             Livejournal               multi        multifandom          international                 USA              1999          2013               -                               https://www.livejournal.com/                           https://web.archive.org/web/20140501000000*/https://www.livejournal.com/    large             het\n",
       "12   13              Oded Fehr Weaver Of Dreams          fanfiction             fandom          international                 USA              2001          2005            2011                                 http://www.fehrdreams.net/                               http://web.archive.org/web/20051025045413/http://www.fehrdreams.net/    small             het\n",
       "13   14          Buffy / Giles Fanfiction Архив          fanfiction             fandom               national                 USA              1999          2004            2010                                     http://bgshippers.com/                                  https://web.archive.org/web/19991115123236/http://bgshippers.com/    small             het\n",
       "14   15                        West of the Moon          fanfiction             fandom               national                 USA              2003          2007            2020                            http://www.west-of-the-moon.net                                                                                                NaN  average             gen\n",
       "15   16                      Lotrfanfiction.com          fanfiction             fandom          international                 USA              2004    2007; 2011               -                             http://www.lotrfanfiction.com/                 https://web.archive.org/web/20190405182424/http://www.lotrfanfiction.com/index.php  average             het\n",
       "16   17                               Thin Line          fanfiction             fandom               national                 USA              2001          2003            2011                                  www26.brinkster.com/sssb/                                                                                                  -    small           slash\n",
       "17   18                     Gilmore Girls Slash          fanfiction             fandom               national                 USA              2001          2004            2017                                     https://www.yahoo.com/                                                                                                  -    small           slash\n",
       "18   19                            FrodoHealers          fanfiction             fandom               national       Great Britain              2002           NaN               -                                                        NaN                                                                                                NaN  average             gen\n",
       "19   20                         The Croft Codex          fanfiction             fandom               national                 USA              2005           NaN            2008                                 http://www.croftcodex.net/                                                                                                NaN    small             het\n",
       "20   21   Will Remember You (IWRY) Fic Marathon          fanfiction             fandom               national                 USA              2004          2011               -                     https://iwry-marathon.livejournal.com/                                                                                                NaN    small           mixed\n",
       "21   22                                 Sublime          fanfiction             fandom               national                 USA              2004          2007            2012                  http://www.octavesoftheheart.com/sublime/               https://web.archive.org/web/20180927143015/http://www.octavesoftheheart.com/sublime/    small             het\n",
       "22   23                               SpringFen          fanfiction             fandom          international                 USA              2005          2013               -  http://springfen.52togetherforever.com/forum/dz/index.php        https://web.archive.org/web/2019*/http://springfen.52togetherforever.com/forum/dz/index.php  average           slash\n",
       "23   24                             Rawhide-fic          fanfiction             fandom               national                 USA              2002          2003            2008                     http://lupous.net/rawhide/fiction.html                                                             http://lupous.net/rawhide/fiction.html    small           mixed\n",
       "24   25                                  TER/MA          fanfiction             fandom          international                 USA              1999          2017         2008(-)                                 http://www.ditb.org/terma/                                       https://web.archive.org/web/2019*/http://www.ditb.org/terma/    small           slash\n",
       "25   26                              DoyleCordy          fanfiction             fandom               national                 USA              1999           NaN            2002                                                          -                                                                                                  -    small             het\n",
       "26   27                       Watchmen Kinkmeme          fanfiction             fandom               national                 USA              2008          2013               -                      https://spam-monster.livejournal.com/                            https://web.archive.org/web/2019*/https://spam-monster.livejournal.com/    small             het\n",
       "27   28                            Side by Side               multi             fandom          international                 USA              2001          2013               -                     http://www.kardasi.com/SBS/sbsmain.htm                http://web.archive.org/web/20080120200738fw_/http://www.kardasi.com/SBS/sbsmain.htm  average           slash\n",
       "28   29                             Underground               multi             fandom          international                 USA              2008          2009            2013                        http://labyrinth.retrogression.org/                              https://web.archive.org/web/2019*/http://labyrinth.retrogression.org/    small             het\n",
       "29   30                          Tom Paris Dorm          fanfiction             fandom          international                 USA              2000          2005               -                               http://www.tomparisdorm.com/                                     https://web.archive.org/web/2019*/http://www.tomparisdorm.com/  average           slash\n",
       "30   31                            Twice Bitten          fanfiction             fandom               national                 USA              2007          2010               -                                 http://bloodties-fans.com/                                       https://web.archive.org/web/2019*/http://bloodties-fans.com/    small           mixed\n",
       "31   32       Elusive Lover (Star Wars archive)   fanart;fanfiction             fandom          international                 USA              2000          2005            2013                                http://www.elusive-lover.de                                   https://web.archive.org/web/2019*/%20http://www.elusive-lover.de  average           slash\n",
       "32   33                             Fandom wiki               multi        multifandom          international       Great Britain              1998          2019               -                                    https://www.fandom.com/                                          https://web.archive.org/web/2019*/https://www.fandom.com/    large           mixed\n",
       "33   34                         Obidala Network          fanfiction             fandom               national                 USA              2002          2009            2017                                        http://obidala.net/                                              https://web.archive.org/web/2019*/http://obidala.net/    small             het\n",
       "34   35                             Glass Onion   fanart;fanfiction        multifandom          international                 USA              2001          2004            2018                 http://groups.yahoo.com/group/Glass_Onion/              https://web.archive.org/web/20121024014047/http://groups.yahoo.com/group/Glass_Onion/    small           mixed\n",
       "35   36                            Glow Firefly          fanfiction        multifandom          international                 USA              2002          2006            2018                                http://firefly.populli.org/                                      https://web.archive.org/web/2019*/http://firefly.populli.org/    small           mixed\n",
       "36   37                            Soul Circuit          fanfiction             fandom          international                 USA              2001           NaN            2019                                                          -                                                                                                  -    small           slash\n",
       "37   38                              Alpha Gate          fanfiction             fandom               national                 USA              2001          2005                                               http://www.thealphagate.com/                                     https://web.archive.org/web/2019*/http://www.thealphagate.com/    small           mixed\n",
       "38   39                            Born For War          fanfiction        multifandom          international                 USA              2000          2007            2015                             http://bleeding-heart.net/bfw/                          https://web.archive.org/web/20150708220307/http://bleeding-heart.net/bfw/    small             het\n",
       "39   40                 The Fenspace Collective               multi             fandom               national                 USA              2011          2019             NaN                    http://www.accessdenied-rms.net/forums/                                      https://web.archive.org/web/*/http://www.accessdenied-rms.net    small             het\n",
       "40   41                         Slashers United          fanfiction        multifandom               national             Germany              2000          2007            2012                  http://skybs.slashcity.net/gssu/main.html                        https://web.archive.org/web/2021*/http://skybs.slashcity.net/gssu/main.html  average           slash\n",
       "41   42                                Sentinel          fanfiction             fandom               national                 USA              1996          2001            2009                                                        NaN           https://web.archive.org/web/20090730184047/http://www.852prospect.org/archive/index.html  average           slash\n",
       "42   43                  The Good Omens Library          fanfiction             fandom               national                 USA              2005           NaN             NaN                                                        NaN                        https://web.archive.org/web/2021*/http://skybs.slashcity.net/gssu/main.html  average           slash\n",
       "43   44                             StargateFan               multi             fandom               national                 USA              2000          2005             NaN                                http://www.stargatefan.com/                                      https://web.archive.org/web/2021*/http://www.stargatefan.com/    small             gen\n",
       "44   45                          Boys in Chains          fanfiction        multifandom               national                 USA              2004          2005            2013                                                        NaN                             http://web.archive.org/web/20040805182531/http://www.boysinchains.org/    small           slash\n",
       "45   46                                Monaboyd          fanfiction             fandom               national                 USA              2003          2004            2018                                       http://monaboyd.net/                                                 https://web.archive.org/web/*/http://monaboyd.net/    small           slash\n",
       "46   47                     Ink Stained Fingers  fanfiction; fanart             fandom               national                 USA              2004          2005             NaN                              http://inkstain.inkquill.net/                                        https://web.archive.org/web/*/http://inkstain.inkquill.net/  average           mixed\n",
       "47   48                          Hermit Library          fanfiction             fandom               national                 USA              2000          2004            2015          http://www.hermit.org/blakes7/Library/SrchReq.cgi                https://web.archive.org/web/2021*/http://www.hermit.org/blakes7/Library/SrchReq.cgi    large           mixed\n",
       "48   49                            Born For War          fanfiction        multifandom               national                 USA              2000          2006            2015                              http://bleeding-heart.net/bfw                          https://web.archive.org/web/20150708220307/http://bleeding-heart.net/bfw/    large           mixed\n",
       "49   50                         \\tPretty Lights          fanfiction        multifandom               national                 USA              2005          2007            2010             http://prettylights.compromisingpositions.net/         https://web.archive.org/web/20071001000000*/http://prettylights.compromisingpositions.net/  average           slash"
      ]
     },
     "execution_count": 28,
     "metadata": {},
     "output_type": "execute_result"
    }
   ],
   "source": [
    "import pandas as pd\n",
    "\n",
    "# Adjust pandas display settings\n",
    "pd.set_option('display.max_columns', None)  # Show all columns\n",
    "pd.set_option('display.max_rows', None)  # Show all rows (use with caution for large datasets)\n",
    "pd.set_option('display.width', 1000)  # Set display width to prevent wrapping\n",
    "pd.set_option('display.max_colwidth', None)  # Show the full content of each column\n",
    "\n",
    "# Correct URL for loading your data from the GitHub raw content URL (make sure the token is valid)\n",
    "url = 'https://raw.githubusercontent.com/NadiaPov/JDH_Files/main/EN.csv'\n",
    "\n",
    "# Load the data into a pandas DataFrame\n",
    "data = pd.read_csv(url)\n",
    "\n",
    "# Display the DataFrame\n",
    "data"
   ]
  },
  {
   "cell_type": "markdown",
   "metadata": {
    "tags": [
     "table-2"
    ]
   },
   "source": [
    "Table 2. Russian-Speaking Fandoms"
   ]
  },
  {
   "cell_type": "code",
   "execution_count": 29,
   "metadata": {
    "tags": [
     "hermeneutics",
     "table-2"
    ]
   },
   "outputs": [
    {
     "data": {
      "text/html": [
       "<div>\n",
       "<style scoped>\n",
       "    .dataframe tbody tr th:only-of-type {\n",
       "        vertical-align: middle;\n",
       "    }\n",
       "\n",
       "    .dataframe tbody tr th {\n",
       "        vertical-align: top;\n",
       "    }\n",
       "\n",
       "    .dataframe thead th {\n",
       "        text-align: right;\n",
       "    }\n",
       "</style>\n",
       "<table border=\"1\" class=\"dataframe\">\n",
       "  <thead>\n",
       "    <tr style=\"text-align: right;\">\n",
       "      <th></th>\n",
       "      <th>title</th>\n",
       "      <th>directions</th>\n",
       "      <th>fandom/multifandom</th>\n",
       "      <th>national/international</th>\n",
       "      <th>country of creation</th>\n",
       "      <th>year of creation</th>\n",
       "      <th>peak activity</th>\n",
       "      <th>year of closure</th>\n",
       "      <th>website</th>\n",
       "      <th>web archive</th>\n",
       "      <th>audience</th>\n",
       "      <th>main directions</th>\n",
       "    </tr>\n",
       "  </thead>\n",
       "  <tbody>\n",
       "    <tr>\n",
       "      <th>0</th>\n",
       "      <td>The fanfiction book</td>\n",
       "      <td>fanfiction</td>\n",
       "      <td>multifandom</td>\n",
       "      <td>international</td>\n",
       "      <td>Russia</td>\n",
       "      <td>2007</td>\n",
       "      <td>2019</td>\n",
       "      <td>NaN</td>\n",
       "      <td>https://ficbook.net</td>\n",
       "      <td>https://web.archive.org/web/20160501000000*/https://ficbook.net</td>\n",
       "      <td>large</td>\n",
       "      <td>slash</td>\n",
       "    </tr>\n",
       "    <tr>\n",
       "      <th>1</th>\n",
       "      <td>Fanfics.me</td>\n",
       "      <td>fanart;fanfiction</td>\n",
       "      <td>multifandom</td>\n",
       "      <td>national</td>\n",
       "      <td>Russia</td>\n",
       "      <td>2004</td>\n",
       "      <td>2017</td>\n",
       "      <td>-</td>\n",
       "      <td>https://fanfics.me/</td>\n",
       "      <td>https://web.archive.org/web/2019*/Fanfics.me</td>\n",
       "      <td>large</td>\n",
       "      <td>gen</td>\n",
       "    </tr>\n",
       "    <tr>\n",
       "      <th>2</th>\n",
       "      <td>Snape's Fairytales</td>\n",
       "      <td>fanfiction</td>\n",
       "      <td>multifandom</td>\n",
       "      <td>national</td>\n",
       "      <td>Russia</td>\n",
       "      <td>2005</td>\n",
       "      <td>2012</td>\n",
       "      <td>-</td>\n",
       "      <td>http://www.snapetales.com</td>\n",
       "      <td>https://web.archive.org/web/2019*/http://www.snapetales.com</td>\n",
       "      <td>average</td>\n",
       "      <td>slash</td>\n",
       "    </tr>\n",
       "    <tr>\n",
       "      <th>3</th>\n",
       "      <td>Dairi.ru</td>\n",
       "      <td>fanfiction</td>\n",
       "      <td>multifandom</td>\n",
       "      <td>national</td>\n",
       "      <td>Russia</td>\n",
       "      <td>1998</td>\n",
       "      <td>2017</td>\n",
       "      <td>-</td>\n",
       "      <td>https://www.diary.ru/</td>\n",
       "      <td>https://web.archive.org/web/2019*/https://www.diary.ru/</td>\n",
       "      <td>average</td>\n",
       "      <td>mixed</td>\n",
       "    </tr>\n",
       "    <tr>\n",
       "      <th>4</th>\n",
       "      <td>Liveinternet.ru</td>\n",
       "      <td>fanfiction</td>\n",
       "      <td>multifandom</td>\n",
       "      <td>national</td>\n",
       "      <td>Russia</td>\n",
       "      <td>2003</td>\n",
       "      <td>2014</td>\n",
       "      <td>-</td>\n",
       "      <td>https://www.liveinternet.ru</td>\n",
       "      <td>https://web.archive.org/web/2019*/https://www.liveinternet.ru</td>\n",
       "      <td>average</td>\n",
       "      <td>mixed</td>\n",
       "    </tr>\n",
       "    <tr>\n",
       "      <th>5</th>\n",
       "      <td>Beon.ru</td>\n",
       "      <td>fanfiction</td>\n",
       "      <td>multifandom</td>\n",
       "      <td>national</td>\n",
       "      <td>Russia</td>\n",
       "      <td>2003</td>\n",
       "      <td>2014</td>\n",
       "      <td>-</td>\n",
       "      <td>https://Beon.ru</td>\n",
       "      <td>https://web.archive.org/web/*/https://Beon.ru</td>\n",
       "      <td>average</td>\n",
       "      <td>mixed</td>\n",
       "    </tr>\n",
       "    <tr>\n",
       "      <th>6</th>\n",
       "      <td>Lurkomorye</td>\n",
       "      <td>multi</td>\n",
       "      <td>multifandom</td>\n",
       "      <td>national</td>\n",
       "      <td>Russia</td>\n",
       "      <td>2007</td>\n",
       "      <td>2015</td>\n",
       "      <td>-</td>\n",
       "      <td>https://lurkmore.to</td>\n",
       "      <td>https://web.archive.org/web/2013*/https://lurkmore.ru</td>\n",
       "      <td>average</td>\n",
       "      <td>mixed</td>\n",
       "    </tr>\n",
       "    <tr>\n",
       "      <th>7</th>\n",
       "      <td>Potterforum.ru</td>\n",
       "      <td>fanfiction</td>\n",
       "      <td>fandom</td>\n",
       "      <td>national</td>\n",
       "      <td>Russia</td>\n",
       "      <td>2010</td>\n",
       "      <td>2012</td>\n",
       "      <td>-</td>\n",
       "      <td>https://potterforum.ru</td>\n",
       "      <td>https://web.archive.org/web/2013*/https://potterforum.ru</td>\n",
       "      <td>small</td>\n",
       "      <td>slash</td>\n",
       "    </tr>\n",
       "    <tr>\n",
       "      <th>8</th>\n",
       "      <td>Prodaman</td>\n",
       "      <td>multi</td>\n",
       "      <td>multifandom</td>\n",
       "      <td>national</td>\n",
       "      <td>Russia</td>\n",
       "      <td>2016</td>\n",
       "      <td>2020</td>\n",
       "      <td>-</td>\n",
       "      <td>https://prodaman.ru/</td>\n",
       "      <td>https://web.archive.org/web/2013*/https://prodaman.ru</td>\n",
       "      <td>average</td>\n",
       "      <td>het</td>\n",
       "    </tr>\n",
       "    <tr>\n",
       "      <th>9</th>\n",
       "      <td>Harry Potter Forum</td>\n",
       "      <td>multi</td>\n",
       "      <td>multifandom</td>\n",
       "      <td>national</td>\n",
       "      <td>Russia</td>\n",
       "      <td>2007</td>\n",
       "      <td>2017</td>\n",
       "      <td>-</td>\n",
       "      <td>https://hpfan.ucoz.ru/</td>\n",
       "      <td>https://web.archive.org/web/2019*/https://hpfan.ucoz.ru/forum/</td>\n",
       "      <td>average</td>\n",
       "      <td>mixed</td>\n",
       "    </tr>\n",
       "  </tbody>\n",
       "</table>\n",
       "</div>"
      ],
      "text/plain": [
       "                 title         directions fandom/multifandom national/international country of creation  year of creation  peak activity year of closure                      website                                                      web archive audience main directions\n",
       "0  The fanfiction book         fanfiction        multifandom          international              Russia              2007           2019             NaN          https://ficbook.net  https://web.archive.org/web/20160501000000*/https://ficbook.net    large           slash\n",
       "1           Fanfics.me  fanart;fanfiction        multifandom               national              Russia              2004           2017               -          https://fanfics.me/                     https://web.archive.org/web/2019*/Fanfics.me    large             gen\n",
       "2   Snape's Fairytales         fanfiction        multifandom               national              Russia              2005           2012               -    http://www.snapetales.com      https://web.archive.org/web/2019*/http://www.snapetales.com  average           slash\n",
       "3             Dairi.ru         fanfiction        multifandom               national              Russia              1998           2017               -        https://www.diary.ru/          https://web.archive.org/web/2019*/https://www.diary.ru/  average           mixed\n",
       "4      Liveinternet.ru         fanfiction        multifandom               national              Russia              2003           2014               -  https://www.liveinternet.ru    https://web.archive.org/web/2019*/https://www.liveinternet.ru  average           mixed\n",
       "5              Beon.ru         fanfiction        multifandom               national              Russia              2003           2014               -              https://Beon.ru                    https://web.archive.org/web/*/https://Beon.ru  average           mixed\n",
       "6           Lurkomorye              multi        multifandom               national              Russia              2007           2015               -          https://lurkmore.to            https://web.archive.org/web/2013*/https://lurkmore.ru  average           mixed\n",
       "7       Potterforum.ru         fanfiction             fandom               national              Russia              2010           2012               -       https://potterforum.ru         https://web.archive.org/web/2013*/https://potterforum.ru    small           slash\n",
       "8             Prodaman              multi        multifandom               national              Russia              2016           2020               -         https://prodaman.ru/            https://web.archive.org/web/2013*/https://prodaman.ru  average             het\n",
       "9   Harry Potter Forum              multi        multifandom               national              Russia              2007           2017               -       https://hpfan.ucoz.ru/   https://web.archive.org/web/2019*/https://hpfan.ucoz.ru/forum/  average           mixed"
      ]
     },
     "execution_count": 29,
     "metadata": {},
     "output_type": "execute_result"
    }
   ],
   "source": [
    "import pandas as pd\n",
    "\n",
    "# Adjust pandas display settings\n",
    "pd.set_option('display.max_columns', None)  # Show all columns\n",
    "pd.set_option('display.max_rows', None)  # Show all rows (use with caution for large datasets)\n",
    "pd.set_option('display.width', 1000)  # Set display width to prevent wrapping\n",
    "pd.set_option('display.max_colwidth', None)  # Show the full content of each column\n",
    "\n",
    "# Correct URL for loading your data from the GitHub raw content URL (make sure the token is valid)\n",
    "url = 'https://raw.githubusercontent.com/NadiaPov/JDH_Files/main/RU.csv'\n",
    "\n",
    "# Load the data into a pandas DataFrame\n",
    "data = pd.read_csv(url)\n",
    "\n",
    "# Display the DataFrame\n",
    "data"
   ]
  },
  {
   "cell_type": "markdown",
   "metadata": {},
   "source": [
    "The strongest bias of the dataset is the random selection of fandoms. Not all potential platforms are included in the selection, and there is no way to evaluate the full set of platforms relevant to the study. This limitation relates to an ever-evolving web space, with websites appearing and disappearing and their dynamic character in nature. Fandom platforms are rarely aggregated and documented in any structural way, making it difficult for researchers to identify and analyse them. Another problem is that the dates of appearance of the platform have been given based on the snapshots from the Internet Archive. However, the snapshot only shows the date the website was crawled, and it could have existed long before it was preserved by the Internet Archive. All this adds uncertainty to the research. Ultimately, the results of the analysis and their interpretation are limited to the image captured. However, it is important to articulate this gap and to explore a complex of other resources to complement further research."
   ]
  },
  {
   "cell_type": "markdown",
   "metadata": {},
   "source": [
    "Based on the data from the Internet Archive, it has been possible to analyse fandom communities, identify certain patterns of development inherent to the fandom community, and trace the dynamics of the development of fandom websites, as well as specific of genres and their diversity."
   ]
  },
  {
   "cell_type": "markdown",
   "metadata": {},
   "source": [
    "##  Findings & Discussion"
   ]
  },
  {
   "cell_type": "markdown",
   "metadata": {},
   "source": [
    "###  An English-speaking segment of fandom platforms"
   ]
  },
  {
   "cell_type": "markdown",
   "metadata": {},
   "source": [
    "An analysis of the distribution of English-language fandoms by country of origin showed a clear predominance of fandom platforms created in the United States. It can be assumed that similar platforms could have been created in other English-speaking countries, but they were less represented in the Open Doors project. There is a need for a more global approach to the preservation of fandom heritage from fandom websites in different countries."
   ]
  },
  {
   "cell_type": "code",
   "execution_count": 68,
   "metadata": {
    "tags": [
     "hermeneutics"
    ]
   },
   "outputs": [
    {
     "data": {
      "image/png": "[encoded data removed]",
      "text/plain": [
       "<Figure size 720x576 with 1 Axes>"
      ]
     },
     "metadata": {},
     "output_type": "display_data"
    }
   ],
   "source": [
    "import matplotlib.pyplot as plt\n",
    "import pandas as pd\n",
    "\n",
    "# Load your data from the GitHub raw content URL\n",
    "url = 'https://raw.githubusercontent.com/NadiaPov/JDH_Files/main/EN.csv'\n",
    "data = pd.read_csv(url)\n",
    "\n",
    "# Aggregate data by 'country of creation' and count the occurrences\n",
    "country_distribution = data['country of creation'].value_counts()\n",
    "\n",
    "# Calculate percentages\n",
    "country_percentages = country_distribution / country_distribution.sum() * 100\n",
    "\n",
    "# Create the pie chart\n",
    "plt.figure(figsize=(10, 8))\n",
    "plt.pie(country_distribution, labels=country_distribution.index + ' (' + country_distribution.astype(str) + ' ; ' + country_percentages.round(2).astype(str) + '%)', autopct='%1.1f%%', startangle=140)\n",
    "plt.title('Figure 1. Distribution of the Fandoms by the Country of Origin')\n",
    "plt.axis('equal')  # Equal aspect ratio ensures that pie is drawn as a circle.\n",
    "\n",
    "# Adding a legend outside the plot\n",
    "plt.legend(title=\"Countries\", loc=\"center left\", bbox_to_anchor=(1, 0, 0.5, 1))\n",
    "\n",
    "# Show plot\n",
    "plt.tight_layout()\n",
    "plt.show()"
   ]
  },
  {
   "cell_type": "markdown",
   "metadata": {},
   "source": [
    "The line graph (Figure 2) shows the distribution of the English-speaking fandom platforms represented in the dataset. Assuming that the Open Doors platform appeared in 2008, it included most of the platforms from the previous period, and in the following years only some of them were submitted for preservation. The turn of the millennium saw the largest number of platforms in the dataset. The initial process was related to the opportunity that the rise of the WWW gave to creative communities to build websites and use them to spread the word globally."
   ]
  },
  {
   "cell_type": "code",
   "execution_count": 37,
   "metadata": {
    "tags": [
     "hermeneutics"
    ]
   },
   "outputs": [
    {
     "data": {
      "image/png": "[encoded data removed]",
      "text/plain": [
       "<Figure size 864x432 with 1 Axes>"
      ]
     },
     "metadata": {
      "needs_background": "light"
     },
     "output_type": "display_data"
    }
   ],
   "source": [
    "import pandas as pd\n",
    "import matplotlib.pyplot as plt\n",
    "from scipy.interpolate import CubicSpline\n",
    "import numpy as np\n",
    "\n",
    "# Load the data\n",
    "url = 'https://raw.githubusercontent.com/NadiaPov/JDH_Files/main/EN.csv'\n",
    "data = pd.read_csv(url)\n",
    "\n",
    "# Aggregate data by 'year of creation' and count the number of entries for each year\n",
    "yearly_distribution = data['year of creation'].value_counts().sort_index()\n",
    "\n",
    "# Ensure every year is represented, even if no platforms were created\n",
    "full_year_range = pd.RangeIndex(start=data['year of creation'].min(), stop=data['year of creation'].max() + 1)\n",
    "yearly_distribution = yearly_distribution.reindex(full_year_range, fill_value=0)\n",
    "\n",
    "# Prepare data for interpolation\n",
    "x = yearly_distribution.index\n",
    "y = yearly_distribution.values\n",
    "\n",
    "# Interpolation - Cubic Spline\n",
    "cs = CubicSpline(x, y)\n",
    "\n",
    "# Generating a smoother x-axis range\n",
    "x_smooth = np.linspace(x.min(), x.max(), 500)\n",
    "y_smooth = cs(x_smooth)\n",
    "\n",
    "# Plotting\n",
    "plt.figure(figsize=(12, 6))\n",
    "plt.plot(x_smooth, y_smooth, linestyle='-', color='b', label='Cubic Spline')\n",
    "# Plot original data points as dots\n",
    "plt.scatter(x, y, color='red', label='Original Data')\n",
    "\n",
    "plt.title('Figure 2. Chronological Distribution of English-speaking Fandom Platforms')\n",
    "plt.xlabel('Year')\n",
    "plt.ylabel('Number of Platforms Created')\n",
    "\n",
    "# Formatting x-axis to show only integer years\n",
    "plt.xticks(np.arange(data['year of creation'].min(), data['year of creation'].max() + 1, step=1), rotation=45)\n",
    "plt.gca().get_xaxis().set_major_formatter(plt.FuncFormatter(lambda x, _: int(x)))\n",
    "\n",
    "# Formatting y-axis to show all whole numbers\n",
    "max_y = int(max(y_smooth.max(), y.max()))\n",
    "plt.yticks(np.arange(0, max_y + 1, step=1))\n",
    "\n",
    "plt.grid(axis='y', linestyle='--')\n",
    "plt.legend()\n",
    "\n",
    "# Show the plot\n",
    "plt.tight_layout()\n",
    "plt.show()\n"
   ]
  },
  {
   "cell_type": "markdown",
   "metadata": {},
   "source": [
    "In the following years, however, there was a decline in the creation of cyber platforms. To discuss the possible reasons for this, it is necessary to consider the proportions of mono and multi-fandoms in the dataset.\n",
    "Out of a total of 50 web platforms, 38% (19) are multi-fandom and 62% (31) are mono-fandom (see Figure 3)."
   ]
  },
  {
   "cell_type": "code",
   "execution_count": 69,
   "metadata": {
    "tags": [
     "hermeneutics"
    ]
   },
   "outputs": [
    {
     "data": {
      "image/png": "[encoded data removed]",
      "text/plain": [
       "<Figure size 720x576 with 1 Axes>"
      ]
     },
     "metadata": {},
     "output_type": "display_data"
    }
   ],
   "source": [
    "import pandas as pd\n",
    "import matplotlib.pyplot as plt\n",
    "\n",
    "# Load the data\n",
    "url = 'https://raw.githubusercontent.com/NadiaPov/JDH_Files/main/EN.csv'\n",
    "data = pd.read_csv(url)\n",
    "\n",
    "# Check if we need to rename any values to match \"Multi-fandom\" and \"Mono-fandom\"\n",
    "# This step assumes 'multifandom' should be labeled as 'Multi-fandom' and similar for 'mono'\n",
    "data['fandom/multifandom'] = data['fandom/multifandom'].replace({'multifandom': 'Multi-fandom', 'fandom': 'Mono-fandom'})\n",
    "\n",
    "# Aggregate data by 'fandom/multifandom'\n",
    "fandom_distribution = data['fandom/multifandom'].value_counts()\n",
    "\n",
    "# Calculate percentages\n",
    "fandom_percentages = fandom_distribution / fandom_distribution.sum() * 100\n",
    "\n",
    "# Labels for the sections of our pie chart\n",
    "labels = [f'{index}: {value} ({percent:.2f}%)' for index, value, percent in zip(fandom_distribution.index, fandom_distribution, fandom_percentages)]\n",
    "\n",
    "# Colors for the pie chart\n",
    "colors = plt.cm.Paired(range(len(labels)))\n",
    "\n",
    "# Create the pie chart\n",
    "plt.figure(figsize=(10, 8))\n",
    "wedges, texts, autotexts = plt.pie(fandom_distribution, labels=fandom_distribution.index, autopct='%1.1f%%', startangle=140, colors=colors)\n",
    "\n",
    "# Improve the display of the labels and percentages\n",
    "plt.setp(texts, size='large')\n",
    "plt.setp(autotexts, size='x-large', weight='bold')\n",
    "\n",
    "plt.title('Figure 3. Distribution of Mono-Fandoms and Multi-Fandoms')\n",
    "\n",
    "# Adding a custom legend\n",
    "plt.legend(wedges, labels, title=\"Fandom Type\", loc=\"center left\", bbox_to_anchor=(1, 0, 0.5, 1))\n",
    "\n",
    "# Show plot\n",
    "plt.tight_layout()\n",
    "plt.show()"
   ]
  },
  {
   "cell_type": "markdown",
   "metadata": {},
   "source": [
    "At the same time, only 21% (4) of the multi-fandom websites in the sample specifically target a national audience, while the number of international fandom websites is 79% (15) (Figure 4). There are practical reasons for the predominance of multi-fandom platforms. They provide the opportunity to present a greater thematic diversity and thus help to promote different fandoms globally."
   ]
  },
  {
   "cell_type": "code",
   "execution_count": 70,
   "metadata": {
    "tags": [
     "hermeneutics"
    ]
   },
   "outputs": [
    {
     "data": {
      "image/png": "[encoded data removed]",
      "text/plain": [
       "<Figure size 720x432 with 1 Axes>"
      ]
     },
     "metadata": {
      "needs_background": "light"
     },
     "output_type": "display_data"
    }
   ],
   "source": [
    "import pandas as pd\n",
    "import matplotlib.pyplot as plt\n",
    "from matplotlib.ticker import FixedLocator, PercentFormatter\n",
    "\n",
    "# Load the data\n",
    "url = 'https://raw.githubusercontent.com/NadiaPov/JDH_Files/main/EN.csv'\n",
    "data = pd.read_csv(url)\n",
    "\n",
    "# Pivot the data to get a count of national/international for mono/multifandom\n",
    "pivot_data = data.pivot_table(index='fandom/multifandom', columns='national/international', aggfunc='size', fill_value=0)\n",
    "\n",
    "# Normalize the data to get proportions\n",
    "pivot_normalized = pivot_data.div(pivot_data.sum(axis=1), axis=0)\n",
    "\n",
    "# Plotting the stacked bar chart\n",
    "ax = pivot_normalized.plot(kind='bar', stacked=True, figsize=(10, 6), color=['skyblue', 'lightcoral'])\n",
    "\n",
    "# Aesthetics\n",
    "plt.title('Figure 4. Distribution of Mono- and Multi-fandoms on the National and International Platforms')\n",
    "plt.xlabel('Fandom Type')\n",
    "plt.ylabel('Percentage')\n",
    "plt.xticks(rotation=0)  # Horizontal x-axis labels\n",
    "plt.legend(title='Platform Type')\n",
    "\n",
    "# Adjusting y-axis to show percentage\n",
    "ax.yaxis.set_major_locator(FixedLocator([i/10 for i in range(1, 11)]))\n",
    "ax.yaxis.set_major_formatter(PercentFormatter(xmax=1))\n",
    "\n",
    "plt.tight_layout()\n",
    "\n",
    "# Show plot\n",
    "plt.show()"
   ]
  },
  {
   "cell_type": "markdown",
   "metadata": {},
   "source": [
    "Over the whole period, mono-fandom platforms predominate in the dataset. However, the vast majority were created between 1996 and 2008, and since 2008 we can see an increasing number of multi-fandom websites (Figure 5)."
   ]
  },
  {
   "cell_type": "code",
   "execution_count": 71,
   "metadata": {
    "tags": [
     "hermeneutics"
    ]
   },
   "outputs": [
    {
     "data": {
      "image/png": "[encoded data removed]",
      "text/plain": [
       "<Figure size 1008x504 with 1 Axes>"
      ]
     },
     "metadata": {
      "needs_background": "light"
     },
     "output_type": "display_data"
    }
   ],
   "source": [
    "import pandas as pd\n",
    "import matplotlib.pyplot as plt\n",
    "\n",
    "# Load the data\n",
    "url = 'https://raw.githubusercontent.com/NadiaPov/JDH_Files/main/EN.csv'\n",
    "data = pd.read_csv(url)\n",
    "\n",
    "# Map the values to 'Mono-fandom' and 'Multi-fandom' for consistency\n",
    "data['fandom/multifandom'] = data['fandom/multifandom'].map({'fandom': 'Mono-fandom', 'multifandom': 'Multi-fandom'})\n",
    "\n",
    "# Group the data by year and type (mono-fandom or multi-fandom)\n",
    "grouped_data = data.groupby(['year of creation', 'fandom/multifandom']).size().unstack(fill_value=0)\n",
    "\n",
    "# Plot a side-by-side bar chart\n",
    "grouped_data.plot(kind='bar', figsize=(14, 7), width=0.8)\n",
    "\n",
    "# Aesthetics\n",
    "plt.title('Figure 5. Distribution of the Mono-Fandoms and Multi-Fandoms on the English-speaking platforms')\n",
    "plt.xlabel('Year')\n",
    "plt.ylabel('Count')\n",
    "plt.xticks(rotation=45)\n",
    "plt.grid(axis='y', linestyle='--')\n",
    "\n",
    "# Show the plot\n",
    "plt.tight_layout()\n",
    "plt.show()"
   ]
  },
  {
   "cell_type": "markdown",
   "metadata": {},
   "source": [
    "Thus, we can suggest that in the first stage of cyberfandom development, mono-fandoms could prevail as a way for small groups of people to come together to discuss fan works. With the emergence of more considerable groups or communities, large fandom platforms became multi-fandom and began to displace mono-fandoms. The mono-fandom communities were able to migrate to the multi-fandom in order to develop together, gain more visibility, and expand the opportunities for communication. Ultimately, the infrastructure for multi-fandoms welcomes different directions and provides the space for creativity and communication, which seems reasonable to reduce the cost of maintaining separate infrastructures for mono-fandoms."
   ]
  },
  {
   "cell_type": "markdown",
   "metadata": {},
   "source": [
    "Qualitative analysis shows that in the second decade of the 2000s, fan movements tended to coalesce around the larger platforms. The importance of international fandom platforms is increasing, and cultural interactions between fans from different countries around the world are intensifying. One example is the creation of platforms such as the English-language multi-fandom platforms Wattpad (2006) <cite data-cite=\"16470964/47DM3B2G\"></cite>, Tumblr (2007) <cite data-cite=\"16470964/IVUQ26KV\"></cite>, \"Archive of Our Own\" (2008) <cite data-cite=\"16470964/9ZG95ADV\"></cite>, and the Russian-language \"Book of Fanfiction\" (2007) <cite data-cite=\"16470964/XP7UI22F\"></cite>."
   ]
  },
  {
   "cell_type": "code",
   "execution_count": 72,
   "metadata": {
    "tags": [
     "hermeneutics"
    ]
   },
   "outputs": [
    {
     "data": {
      "image/png": "[encoded data removed]",
      "text/plain": [
       "<Figure size 1008x504 with 1 Axes>"
      ]
     },
     "metadata": {
      "needs_background": "light"
     },
     "output_type": "display_data"
    }
   ],
   "source": [
    "import pandas as pd\n",
    "import matplotlib.pyplot as plt\n",
    "\n",
    "# Load the data\n",
    "url = 'https://raw.githubusercontent.com/NadiaPov/JDH_Files/main/EN.csv'\n",
    "data = pd.read_csv(url)\n",
    "\n",
    "# Map the values to 'National' and 'International' for consistency\n",
    "data['national/international'] = data['national/international'].map({'national': 'National', 'international': 'International'})\n",
    "\n",
    "# Group the data by year and national/international\n",
    "grouped_data = data.groupby(['year of creation', 'national/international']).size().unstack(fill_value=0)\n",
    "\n",
    "# Plot a side-by-side bar chart\n",
    "grouped_data.plot(kind='bar', figsize=(14, 7), width=0.8)\n",
    "\n",
    "# Aesthetics\n",
    "plt.title('Figure 6. Distribution of the National and International English-speaking Fandom Platforms')\n",
    "plt.xlabel('Year')\n",
    "plt.ylabel('Count')\n",
    "plt.xticks(rotation=45)\n",
    "plt.grid(axis='y', linestyle='--')\n",
    "\n",
    "# Show the plot\n",
    "plt.tight_layout()\n",
    "plt.show()"
   ]
  },
  {
   "cell_type": "markdown",
   "metadata": {},
   "source": [
    "The size of the platform, or the number of users, is another important characteristic of the fandom platform. This characteristic captures the number of registered users, the number of registered authors, and/or the number of creative works published on the platform at the peak activity of the website. The peak of activity was identified using snapshots of the website on the Wayback Machine. As a result of the analysis of websites by audience size, it was found that out of 19 multi-fandom websites with more than 1000 users, there are 10 platforms in the established list, 5 websites with between 500 and 1000 users, and another 4 belong to the group of \"small\" websites with up to 500 users (see Figure 7)."
   ]
  },
  {
   "cell_type": "markdown",
   "metadata": {},
   "source": [
    "At the same time, an observation of mono-fandom cyber platforms in terms of audience coverage shows that these platforms tend to be small and medium in size."
   ]
  },
  {
   "cell_type": "code",
   "execution_count": 73,
   "metadata": {
    "tags": [
     "hermeneutics"
    ]
   },
   "outputs": [
    {
     "data": {
      "image/png": "[encoded data removed]",
      "text/plain": [
       "<Figure size 720x432 with 1 Axes>"
      ]
     },
     "metadata": {
      "needs_background": "light"
     },
     "output_type": "display_data"
    }
   ],
   "source": [
    "import pandas as pd\n",
    "import matplotlib.pyplot as plt\n",
    "from matplotlib.ticker import MaxNLocator\n",
    "\n",
    "# Load the data\n",
    "url = 'https://raw.githubusercontent.com/NadiaPov/JDH_Files/main/EN.csv'\n",
    "data = pd.read_csv(url)\n",
    "\n",
    "# Replace 'average' with 'medium' and ensure consistent naming\n",
    "data['audience'] = data['audience'].replace({'average': 'medium'})\n",
    "\n",
    "# Ensure the mappings are correct for 'fandom/multifandom'\n",
    "data['fandom/multifandom'] = data['fandom/multifandom'].map({'fandom': 'Mono-fandom', 'multifandom': 'Multi-fandom'})\n",
    "\n",
    "# Order the audience sizes\n",
    "audience_order = ['small', 'medium', 'large']\n",
    "\n",
    "# Group the data by audience size and fandom type\n",
    "grouped_data = data.groupby(['audience', 'fandom/multifandom']).size().reindex(audience_order, level='audience').unstack(fill_value=0)\n",
    "\n",
    "# Plot a grouped bar chart\n",
    "ax = grouped_data.plot(kind='bar', figsize=(10, 6), width=0.8)\n",
    "\n",
    "# Aesthetics\n",
    "plt.title('Figure 7. Distribution of Mono-Fandom and Multi-Fandom Websites by the Size of the Audience')\n",
    "plt.xlabel('Audience Size')\n",
    "plt.ylabel('Number of Websites')\n",
    "plt.xticks(rotation=0)  # Keep the x-axis labels horizontal for readability\n",
    "\n",
    "# Set the y-axis to display only whole numbers\n",
    "ax.yaxis.set_major_locator(MaxNLocator(integer=True))\n",
    "\n",
    "# Adding a legend and its title\n",
    "ax.legend(title='Fandom Type')\n",
    "\n",
    "plt.tight_layout()\n",
    "plt.show()\n"
   ]
  },
  {
   "cell_type": "markdown",
   "metadata": {},
   "source": [
    "Yet only two of the large multi-fandom web platforms turned out to be national, the rest were created as international cyber fandoms."
   ]
  },
  {
   "cell_type": "markdown",
   "metadata": {},
   "source": [
    "Genre is the next characteristic to consider. The following range of subgenres of fanfiction have been identified on the cyber platforms:\n",
    "1.\tGen is a subgenre in which romantic or sexual relationships between characters play no role or are absent altogether.\n",
    "2.\tHet is a subgenre that depicts heterosexual relationships between characters.\n",
    "3.\tSlash is a subgenre that depicts romantic or sexual relationships between male characters.\n",
    "4.\tFemslash is a genre that depicts romantic or sexual relationships between female characters.\n"
   ]
  },
  {
   "cell_type": "code",
   "execution_count": 74,
   "metadata": {
    "tags": [
     "hermeneutics"
    ]
   },
   "outputs": [
    {
     "data": {
      "image/png": "[encoded data removed]",
      "text/plain": [
       "<Figure size 720x576 with 1 Axes>"
      ]
     },
     "metadata": {},
     "output_type": "display_data"
    }
   ],
   "source": [
    "import pandas as pd\n",
    "import matplotlib.pyplot as plt\n",
    "\n",
    "# Load the data\n",
    "url = 'https://raw.githubusercontent.com/NadiaPov/JDH_Files/main/EN.csv'\n",
    "data = pd.read_csv(url)\n",
    "\n",
    "# Capitalize the first letter of each genre in 'main directions'\n",
    "data['main directions'] = data['main directions'].str.capitalize()\n",
    "\n",
    "# Count the occurrences of each 'main directions'\n",
    "genre_distribution = data['main directions'].value_counts()\n",
    "\n",
    "# Calculate the percentage for each 'main directions'\n",
    "genre_percentage = genre_distribution / genre_distribution.sum() * 100\n",
    "\n",
    "# Create labels for the pie slices with absolute numbers\n",
    "slice_labels = [f'{count}' for count in genre_distribution]\n",
    "\n",
    "# Create labels for the legend with both the 'main directions' name, absolute numbers, and corresponding percentage\n",
    "legend_labels = [f'{direction} - {count}; {percentage:.2f}%' for direction, count, percentage in zip(genre_distribution.index, genre_distribution, genre_percentage)]\n",
    "\n",
    "# Set a color palette\n",
    "colors = plt.cm.Paired(range(len(genre_distribution)))\n",
    "\n",
    "# Create the pie chart\n",
    "plt.figure(figsize=(10, 8))\n",
    "wedges, _, autotexts = plt.pie(genre_distribution, labels=slice_labels, colors=colors, autopct='%1.1f%%', startangle=140)\n",
    "\n",
    "# Beautify the autopct labels\n",
    "plt.setp(autotexts, size='x-large', weight='bold')\n",
    "\n",
    "plt.title('Figure 8. Main Subgenres of Fan Creativity Published on the Platforms')\n",
    "\n",
    "# Add a legend outside the plot\n",
    "plt.legend(wedges, legend_labels, title='Main Directions', loc='center left', bbox_to_anchor=(1, 0.5))\n",
    "\n",
    "# Show the plot with a tight layout\n",
    "plt.tight_layout()\n",
    "plt.show()\n"
   ]
  },
  {
   "cell_type": "markdown",
   "metadata": {},
   "source": [
    "Figure 8 shows the distribution of the genres on the cyber platforms under the study. There are two dominant genres: Slash - 32% (16) and Het - 28% (14). At the same time, fandom platforms that host mixed genres account for 34% (17), Gen for only 4% (2) and Femslash for 2% (1)."
   ]
  },
  {
   "cell_type": "markdown",
   "metadata": {},
   "source": [
    "Looking at the subgenres, we can see an uneven distribution and underrepresentation of the femslash direction. A similar trend is mentioned in related research <cite data-cite=\"16470964/JZFGZ9NF\"></cite> and other observations <cite data-cite=\"16470964/4AAPQW2P\"></cite>. In the essay 'Femslash Can Save the World If We Let It', Kate indicates that \"historically, female sexuality, specifically queer female sexuality, flies invisible within our culture\" <cite data-cite=\"16470964/TKV2HZXZ\"></cite>. The small number of femslash fandom platforms can be explained by their distribution on the multi-fandom platforms. However, it allows us to align the creative practices of fandom with the emergence of movements for equality and the protection of human, women's and minority rights, and to consider academic publishing in this direction as a form of activism. It can be assumed that the balancing of these trends is in line with current trends, as the growth of Internet fandoms increases the responsibility of the industry to understand and respect the fan expectations of diverse communities."
   ]
  },
  {
   "cell_type": "markdown",
   "metadata": {},
   "source": [
    "At the same time, the significant number of fandom platforms dedicated to the slash genre demonstrates the communities' growing interest in LGBTQ+-themed works and the diversity of fan culture."
   ]
  },
  {
   "cell_type": "markdown",
   "metadata": {},
   "source": [
    "Furthermore, most of the existing cyber-fandom platforms are dedicated to one area of creativity such as fan fiction - out of 50 platforms, 34 were created for the distribution of fan fiction (Figure 9). Only 1 platform was created for the development of fanart, while only one of them did not combine an additional section, fanfiction. Only 20% of all platforms support different types of creativity, while only 4 of them are dedicated to single fandoms. And five of them (5 out of 10) were created after 2006."
   ]
  },
  {
   "cell_type": "code",
   "execution_count": 75,
   "metadata": {
    "tags": [
     "hermeneutics"
    ]
   },
   "outputs": [
    {
     "data": {
      "image/png": "[encoded data removed]",
      "text/plain": [
       "<Figure size 720x576 with 1 Axes>"
      ]
     },
     "metadata": {},
     "output_type": "display_data"
    }
   ],
   "source": [
    "import pandas as pd\n",
    "import matplotlib.pyplot as plt\n",
    "\n",
    "# Load the data\n",
    "url = 'https://raw.githubusercontent.com/NadiaPov/JDH_Files/main/EN.csv'\n",
    "data = pd.read_csv(url)\n",
    "\n",
    "# Capitalize the first letter of each direction in 'directions'\n",
    "data['directions'] = data['directions'].str.capitalize()\n",
    "\n",
    "# Count the occurrences of each 'directions'\n",
    "direction_distribution = data['directions'].value_counts()\n",
    "\n",
    "# Calculate the percentage for each 'directions'\n",
    "direction_percentage = direction_distribution / direction_distribution.sum() * 100\n",
    "\n",
    "# Create labels for the pie slices with absolute numbers\n",
    "slice_labels = [f'{count}' for count in direction_distribution]\n",
    "\n",
    "# Create labels for the legend with both the 'directions' name, absolute numbers, and corresponding percentage\n",
    "legend_labels = [f'{direction} - {count}; {percentage:.2f}%' for direction, count, percentage in zip(direction_distribution.index, direction_distribution, direction_percentage)]\n",
    "\n",
    "# Set a color palette\n",
    "colors = plt.cm.Paired(range(len(direction_distribution)))\n",
    "\n",
    "# Create the pie chart\n",
    "plt.figure(figsize=(10, 8))\n",
    "wedges, _, autotexts = plt.pie(direction_distribution, labels=slice_labels, colors=colors, autopct='%1.1f%%', startangle=140)\n",
    "\n",
    "# Beautify the autopct labels\n",
    "plt.setp(autotexts, size='x-large', weight='bold')\n",
    "\n",
    "plt.title('Figure 9. Genres of Fandom Creativity')\n",
    "\n",
    "# Add a legend outside the plot\n",
    "plt.legend(wedges, legend_labels, title='Directions', loc='center left', bbox_to_anchor=(1, 0.5))\n",
    "\n",
    "# Show the plot with a tight layout\n",
    "plt.tight_layout()\n",
    "plt.show()\n"
   ]
  },
  {
   "cell_type": "markdown",
   "metadata": {},
   "source": [
    "Observation of the overall processes reflected in this selection of English-speaking fandom platforms reveals the dynamics of fandom emergence and development on the web. Many of the platforms appeared around the turn of the millennium, with a subsequent decline in the creation of new platforms. The platforms were represented as mono- and multi-fandom cultures, with the multi-folds dominating overall. This can be explained by the natural evolution of online communities and the shift towards a more centralised environment with a variety of interests in one place. Mono-fandom platforms have a particular focus on a particular subgenre of fandom culture, and at the same time the practicality of expanding user engagement and reaching a wider audience has led to convergence processes between mono-fandom and multi-fandom platforms. The same process of integration is relevant to national and international platforms, reflecting the global spirit of fandom development. Greater international representation opens up greater opportunities for exploration of creative works, and stimulates discussion and exchange of ideas between creators, users, and all interested parties."
   ]
  },
  {
   "cell_type": "markdown",
   "metadata": {},
   "source": [
    "### The Russian-speaking segment of fandom platforms"
   ]
  },
  {
   "cell_type": "markdown",
   "metadata": {},
   "source": [
    "The analysis of Russian-language fandom platforms is, as already explained, rather difficult due to the lack of accumulation of data about them on the aggregating platforms. This can be partially explained by their presence as part of the multi-fandom and multi-lingual fandom platforms. However, it is important to consider the results of the analysis of the samples obtained."
   ]
  },
  {
   "cell_type": "markdown",
   "metadata": {},
   "source": [
    "Of the 10 platforms, only one can be considered mono-fandom, but in this case, it can be assumed that this is due to the choice and lack of pre-saved cyber-platforms and fandom lists. This is also due to the fact that fans are observed to use parts of existing common platforms to highlight the fandom part in them (as in Dairi.ru, Lurkomorye), but on such platforms they can independently gather representatives of different fandoms."
   ]
  },
  {
   "cell_type": "code",
   "execution_count": 76,
   "metadata": {},
   "outputs": [
    {
     "data": {
      "image/png": "[encoded data removed]",
      "text/plain": [
       "<Figure size 864x432 with 1 Axes>"
      ]
     },
     "metadata": {
      "needs_background": "light"
     },
     "output_type": "display_data"
    }
   ],
   "source": [
    "import pandas as pd\n",
    "import matplotlib.pyplot as plt\n",
    "from scipy.interpolate import CubicSpline\n",
    "import numpy as np\n",
    "\n",
    "# Load the data\n",
    "url = 'https://raw.githubusercontent.com/NadiaPov/JDH_Files/main/RU.csv'\n",
    "data = pd.read_csv(url)\n",
    "\n",
    "# Aggregate data by 'year of creation' and count the number of entries for each year\n",
    "yearly_distribution = data['year of creation'].value_counts().sort_index()\n",
    "\n",
    "# Ensure every year is represented, even if no platforms were created\n",
    "full_year_range = pd.RangeIndex(start=data['year of creation'].min(), stop=data['year of creation'].max() + 1)\n",
    "yearly_distribution = yearly_distribution.reindex(full_year_range, fill_value=0)\n",
    "\n",
    "# Prepare data for interpolation\n",
    "x = yearly_distribution.index\n",
    "y = yearly_distribution.values\n",
    "\n",
    "# Interpolation - Cubic Spline\n",
    "cs = CubicSpline(x, y)\n",
    "\n",
    "# Generating a smoother x-axis range\n",
    "x_smooth = np.linspace(x.min(), x.max(), 500)\n",
    "y_smooth = cs(x_smooth)\n",
    "\n",
    "# Plotting\n",
    "plt.figure(figsize=(12, 6))\n",
    "plt.plot(x_smooth, y_smooth, linestyle='-', color='b', label='Cubic Spline')\n",
    "# Plot original data points as dots\n",
    "plt.scatter(x, y, color='red', label='Original Data')\n",
    "\n",
    "plt.title('Figure 10. Chronological Distribution of the Russian-speaking Fandom Platforms')\n",
    "plt.xlabel('Year')\n",
    "plt.ylabel('Number of Platforms Created')\n",
    "\n",
    "# Formatting x-axis to show only integer years\n",
    "plt.xticks(np.arange(data['year of creation'].min(), data['year of creation'].max() + 1, step=1), rotation=45)\n",
    "plt.gca().get_xaxis().set_major_formatter(plt.FuncFormatter(lambda x, _: int(x)))\n",
    "\n",
    "# Formatting y-axis to show all whole numbers\n",
    "max_y = int(max(y_smooth.max(), y.max()))\n",
    "plt.yticks(np.arange(0, max_y + 1, step=1))\n",
    "\n",
    "plt.grid(axis='y', linestyle='--')\n",
    "plt.legend()\n",
    "\n",
    "# Show the plot\n",
    "plt.tight_layout()\n",
    "plt.show()"
   ]
  },
  {
   "cell_type": "markdown",
   "metadata": {},
   "source": [
    "However, it can be assumed that in the Russian-speaking domain there may have been an initial tendency towards greater development of multi-fandom platforms."
   ]
  },
  {
   "cell_type": "markdown",
   "metadata": {},
   "source": [
    "In terms of sub-genres, the direction of romantic lines in the Russian-speaking platforms generally followed the trends of English-language platforms (Figure 11). It is interesting to note that half of the platforms analysed are mixed genre platforms, but slash has a large proportion. At the same time, femslash is not articulated, as it is only partially included in mixed genre fandom platforms. This also confirms the findings based on the analysis of the English-speaking sector."
   ]
  },
  {
   "cell_type": "code",
   "execution_count": 77,
   "metadata": {
    "tags": [
     "hermeneutics"
    ]
   },
   "outputs": [
    {
     "data": {
      "image/png": "[encoded data removed]",
      "text/plain": [
       "<Figure size 720x576 with 1 Axes>"
      ]
     },
     "metadata": {},
     "output_type": "display_data"
    }
   ],
   "source": [
    "import pandas as pd\n",
    "import matplotlib.pyplot as plt\n",
    "\n",
    "# Load the data\n",
    "url = 'https://raw.githubusercontent.com/NadiaPov/JDH_Files/main/RU.csv'\n",
    "data = pd.read_csv(url)\n",
    "\n",
    "# Capitalize the first letter of each genre in 'main directions'\n",
    "data['main directions'] = data['main directions'].str.capitalize()\n",
    "\n",
    "# Count the occurrences of each 'main directions'\n",
    "genre_distribution = data['main directions'].value_counts()\n",
    "\n",
    "# Calculate the percentage for each 'main directions'\n",
    "genre_percentage = genre_distribution / genre_distribution.sum() * 100\n",
    "\n",
    "# Create labels for the pie slices with absolute numbers\n",
    "slice_labels = [f'{count}' for count in genre_distribution]\n",
    "\n",
    "# Create labels for the legend with both the 'main directions' name, absolute numbers, and corresponding percentage\n",
    "legend_labels = [f'{direction} - {count}; {percentage:.2f}%' for direction, count, percentage in zip(genre_distribution.index, genre_distribution, genre_percentage)]\n",
    "\n",
    "# Set a color palette\n",
    "colors = plt.cm.Paired(range(len(genre_distribution)))\n",
    "\n",
    "# Create the pie chart\n",
    "plt.figure(figsize=(10, 8))\n",
    "wedges, _, autotexts = plt.pie(genre_distribution, labels=slice_labels, colors=colors, autopct='%1.1f%%', startangle=140)\n",
    "\n",
    "# Beautify the autopct labels\n",
    "plt.setp(autotexts, size='x-large', weight='bold')\n",
    "\n",
    "plt.title('Figure 11. The Main Subgenres of the Fandoms on the Russian-Language Platforms')\n",
    "\n",
    "# Add a legend outside the plot\n",
    "plt.legend(wedges, legend_labels, title='Main Directions', loc='center left', bbox_to_anchor=(1, 0.5))\n",
    "\n",
    "# Show the plot with a tight layout\n",
    "plt.tight_layout()\n",
    "plt.show()"
   ]
  },
  {
   "cell_type": "markdown",
   "metadata": {},
   "source": [
    "The subgenres of the platforms in the Russian-language fandom sector are distributed as follows. Mixed ones predominate (6 out of 10), on three platforms the majority of works are dedicated to the \"Slash\" direction, and on one platform the majority of works are dedicated to the \"Get\" direction. Thus, we can see similarities with the Anglophone sector: multi-fandom platforms are generally mixed, which attracts a larger number of registered users interested in participating in such a platform."
   ]
  },
  {
   "cell_type": "markdown",
   "metadata": {},
   "source": [
    "As far as the size of the platforms is concerned, it can be noted that of the platforms considered, only one is small and mono-fandom. The rest are multi-fandom, of which 7 are medium and 2 are large (Figure 12). This may reflect a tendency to create digital environments that unite a wider audience and expose different creative works for exploration."
   ]
  },
  {
   "cell_type": "code",
   "execution_count": 78,
   "metadata": {
    "tags": [
     "hermeneutics"
    ]
   },
   "outputs": [
    {
     "data": {
      "image/png": "[encoded data removed]",
      "text/plain": [
       "<Figure size 720x432 with 1 Axes>"
      ]
     },
     "metadata": {
      "needs_background": "light"
     },
     "output_type": "display_data"
    }
   ],
   "source": [
    "import pandas as pd\n",
    "import matplotlib.pyplot as plt\n",
    "from matplotlib.ticker import MaxNLocator\n",
    "\n",
    "# Load the data\n",
    "url = 'https://raw.githubusercontent.com/NadiaPov/JDH_Files/main/RU.csv'\n",
    "data = pd.read_csv(url)\n",
    "\n",
    "# Replace 'average' with 'medium' and ensure consistent naming\n",
    "data['audience'] = data['audience'].replace({'average': 'medium'})\n",
    "\n",
    "# Ensure the mappings are correct for 'fandom/multifandom'\n",
    "data['fandom/multifandom'] = data['fandom/multifandom'].map({'fandom': 'Mono-fandom', 'multifandom': 'Multi-fandom'})\n",
    "\n",
    "# Order the audience sizes\n",
    "audience_order = ['small', 'medium', 'large']\n",
    "\n",
    "# Group the data by audience size and fandom type\n",
    "grouped_data = data.groupby(['audience', 'fandom/multifandom']).size().reindex(audience_order, level='audience').unstack(fill_value=0)\n",
    "\n",
    "# Plot a grouped bar chart\n",
    "ax = grouped_data.plot(kind='bar', figsize=(10, 6), width=0.8)\n",
    "\n",
    "# Aesthetics\n",
    "plt.title('Figure 12. Distribution of Mono-fandom and Multi-Fandom Websites by the Size of the Audience')\n",
    "plt.xlabel('Audience Size')\n",
    "plt.ylabel('Number of Websites')\n",
    "plt.xticks(rotation=0)  # Keep the x-axis labels horizontal for readability\n",
    "\n",
    "# Set the y-axis to display only whole numbers\n",
    "ax.yaxis.set_major_locator(MaxNLocator(integer=True))\n",
    "\n",
    "# Adding a legend and its title\n",
    "ax.legend(title='Fandom Type')\n",
    "\n",
    "plt.tight_layout()\n",
    "plt.show()\n"
   ]
  },
  {
   "cell_type": "markdown",
   "metadata": {},
   "source": [
    "Comparative analysis of the datasets reveals some similarities in the trends identified, such as the shift towards multi-fandom platforms and the dominance of mixed subgenre fan websites. In general, this trend reflects a global trend towards more inclusive and diverse fan communities <cite data-cite=\"16470964/52Q99BQ4\"></cite>. Considering the directions of fandom platforms, the underrepresentation of femslash was noted in both datasets, reflecting the global mainstream on digital platforms and in media in general that het (heterosexual) and slash (male relationships) are more popular  <cite data-cite=\"16470964/K2C2GESR\"></cite>,  <cite data-cite=\"16470964/BZ72B89N\"></cite>.  Karen Hellekson and Kristina Busse <cite data-cite=\"16470964/2HHY68QY\"></cite> approach to explaining this trend from the authors' perspective, arguing that more authors contribute to Slash being heterosexual women as well as queer and trans/or non-binary writers. The findings also reveal the gradual development of fandom platforms as a result of internationalisation, integration and globalisation, also in terms of the development of mixed creative practices."
   ]
  },
  {
   "cell_type": "markdown",
   "metadata": {},
   "source": [
    "## Conclusion"
   ]
  },
  {
   "cell_type": "markdown",
   "metadata": {},
   "source": [
    "With the growth of the WWW, there has been a steady increase in the number of users creating and consuming fandom culture. Digital technologies have changed fandom significantly. Since the 2000s, the role of multi-fandom venues and crossover works has increased, and fandom subcultures have interpenetrated one another. It is also observed that with the development of technology, the language barrier is disappearing, supporting integrative processes and the creation of international fandom platforms. The tendencies towards convergence that are evident in the integration of platforms towards multi-fandom global infrastructures require more detailed analysis. Confluence at the content level supports the diversity of interests in creating fandom works that can be explored and shared by different audiences. Such centralised platforms allow users to explore fannish creativity more easily and suggest a space for wider discussion and exchange of ideas between different fandom communities. Technological convergence can also be mentioned as a reflection of the practicality of shared spaces for publishing creative content and engaging communities. Users are given a shared environment to explore multiple fandoms without having to switch between platforms and navigate multiple websites, and vice versa, authors are given the opportunity to reach a wider audience and increase the visibility of their work. A technical reason, such as the preference of many users for comprehensive multi-functional portals over smaller or even niche websites, seems to be a serious argument for this integration and sustainability."
   ]
  },
  {
   "cell_type": "markdown",
   "metadata": {},
   "source": [
    "Integration processes are connecting fans from all over the world, leading to an increasing number of shared platforms. This trend has encouraged initiatives to preserve digital fandom culture. One example of such an initiative is the Culture Preservation Project, which aims to preserve fandom culture. In 2014, the international fandom organisation Archive of Our Own, together with the OTW and the Special Collections Department of the University of Iowa Libraries, launched the Culture Preservation Project to preserve fandom culture. The Open Doors Project is one of the initiatives of this project. As a result, a unified archive of fanworks has been created, including those fanworks that were not preserved on the original national platforms and may have been lost."
   ]
  },
  {
   "cell_type": "markdown",
   "metadata": {},
   "source": [
    "The preservation projects and some of the international fandom platforms offer shelter to vulnerable cyber-communities from countries where official policy does not support them. In the case of Russian-speaking fandom platforms, this is particularly important due to recent discriminatory government policies in Russia. The development of fandom in Russia faces several social and political restrictions. For example, in February 2022, the new Roskomnadzor law \"On Approval of Criteria for LGBT Propaganda, Pedophilia and Gender Reassignment\" <cite data-cite=\"16470964/TF96TGQE\"></cite> was published. As a result, a large number of users (more than 6 thousand accounts) moved from the Russian-language Fan Fiction Book to the international platform Archive of Our Own. At the same time, the Archive of Our Own website was blocked in Russia on 14 April 2023. Thus, the development of fandom platforms, especially national ones, can be negatively influenced by political forces, putting them in a vulnerable state and under threat of suppression and disappearance. Therefore, in these conditions, it is particularly important to preserve fandom culture and support its online representation."
   ]
  },
  {
   "cell_type": "markdown",
   "metadata": {},
   "source": [
    "At the same time, the current research shows the limitations of the Open Doors project in preserving fandom culture, as it focuses mainly on the Global North and does not adequately include the diverse fandom culture of the Global South. "
   ]
  },
  {
   "cell_type": "markdown",
   "metadata": {},
   "source": [
    "All of these issues and limitations require additional consideration not only to preserve born-digital heritage such as fandom platforms, but also to ensure and sustain digital preservation processes. The datasets currently analysed show a strong bias in the data collected. However, it should be noted that additional attention from the GLAM sector, especially from the perspective of preservation efforts, is needed to ensure more adequate preservation of digital cultures for the future."
   ]
  }
 ],
 "metadata": {
  "celltoolbar": "Tags",
  "citation-manager": {
   "items": {}
  },
  "cite2c": {
   "citations": {
    "16470964/2HHY68QY": {
     "ISBN": "978-0-7864-5496-9",
     "abstract": "Fans have been responding to literary works since the days of Homer's Odyssey and Euripedes' Medea. More recently, a number of science fiction, fantasy, media, and game works have found devoted fan followings. The advent of the Internet has brought these groups from relatively limited, face-to-face enterprises to easily accessible global communities, within which fan texts proliferate and are widely read and even more widely commented upon. New interactions between readers and writers of fan texts are possible in these new virtual communities. From Star Trek to Harry Potter, the essays in this volume explore the world of fan fiction--its purposes, how it is created, how the fan experiences it. Grouped by subject matter, essays cover topics such as genre intersection, sexual relationships between characters, character construction through narrative, and the role of the beta reader in online communities. The work also discusses the terminology used by creators of fan artifacts and comments on the effects of technological advancements on fan communities. Instructors considering this book for use in a course may request an examination copy here.",
     "author": [
      {
       "family": "Hellekson",
       "given": "Karen"
      },
      {
       "family": "Busse",
       "given": "Kristina"
      }
     ],
     "id": "16470964/2HHY68QY",
     "issued": {
      "year": 2014
     },
     "language": "en",
     "note": "Google-Books-ID: UgZsi_DOKoQC",
     "number-of-pages": "297",
     "publisher": "McFarland",
     "shortTitle": "Fan Fiction and Fan Communities in the Age of the Internet",
     "title": "Fan Fiction and Fan Communities in the Age of the Internet: New Essays",
     "title-short": "Fan Fiction and Fan Communities in the Age of the Internet",
     "type": "book"
    },
    "16470964/2HLDWJTH": {
     "ISBN": "978-90-78146-07-0",
     "abstract": "This study examines the dynamics of critical Internet culture after the medium opened to a broader audience in the mid 1990s. It is Geert Lovink's PhD thesis, submitted late 2002, written in between his two books on the same topic: Dark Fiber (2002) and My First Recession (2003). The core of the research consists of four case studies of non-profit networks: the Amsterdam community provider, The Digital City (DDS); the early years of the nettime mailinglist community; a history of the European new media arts network Syndicate; and an analysis of the streaming media network Xchange. The research describes the search for sustainable community network models in a climate of hyper growth and increased tensions and conflict concerning moderation and ownership of online communities.",
     "author": [
      {
       "family": "Lovink",
       "given": "Geert"
      }
     ],
     "id": "16470964/2HLDWJTH",
     "issued": {
      "year": 2009
     },
     "language": "en",
     "note": "Google-Books-ID: 2IFanhsEJGwC",
     "number-of-pages": "230",
     "publisher": "Institute of network cultures",
     "title": "Dynamics of Critical Internet Culture (1994-2001)",
     "type": "book"
    },
    "16470964/2KC77DSJ": {
     "URL": "https://www.routledge.com/The-Routledge-Companion-to-Media-Fandom/Click-Scott/p/book/9780367528065",
     "abstract": "The field of fan studies has seen exponential growth in recent years and this companion brings together an internationally and interdisciplinarily diverse group of established scholars to reflect on the state of the field and to point to new research directions. Engaging an impressive array of media texts and formats and incorporating a variety of methodologies, this collection is organized into six main sections: methods and ethics, technologies and practices, identities, race and transcultural",
     "accessed": {
      "day": 12,
      "month": 4,
      "year": 2024
     },
     "author": [
      {
       "family": "Melissa A. Click, Suzanne Scott",
       "given": ""
      }
     ],
     "id": "16470964/2KC77DSJ",
     "issued": {
      "year": 2018
     },
     "language": "en",
     "publisher": "Routledge",
     "title": "The Routledge Companion to Media Fandom",
     "type": "book"
    },
    "16470964/3DGDDIBW": {
     "author": [
      {
       "family": "Shhepanskaja",
       "given": "Tatyana"
      }
     ],
     "event-place": "Moscow",
     "id": "16470964/3DGDDIBW",
     "issued": {
      "year": 2004
     },
     "number-of-pages": "286",
     "publisher": "OGI",
     "publisher-place": "Moscow",
     "title": "Sistema: teksty i tradicii subkul'tury",
     "type": "book"
    },
    "16470964/3JUPH2P9": {
     "DOI": "10.3983/twc.2011.0272",
     "URL": "https://journal.transformativeworks.org/index.php/twc/article/view/272",
     "abstract": "This essay kicks off the special historical issue of Transformative Works and Cultures by offering an overview of the ways in which fan communities have been studied by academic historians, and how fan studies has written the history of fan communities. The essay discusses historical work done by amateur fan historians throughout the 20th century; what academic historians can offer fan communities; why academic historians could benefit from studying fandoms as part of the history of popular culture; and what fan studies as a discipline might gain from a broader historical analysis of fandoms.",
     "accessed": {
      "day": 27,
      "month": 10,
      "year": 2023
     },
     "author": [
      {
       "family": "Reagin",
       "given": "Nancy"
      },
      {
       "family": "Rubenstein",
       "given": "Anne"
      }
     ],
     "container-title": "Transformative Works and Cultures",
     "id": "16470964/3JUPH2P9",
     "issued": {
      "year": 2011
     },
     "language": "en",
     "shortTitle": "I'm Buffy, and you're history",
     "title": "\"I'm Buffy, and you're history\": Putting fan studies into history",
     "title-short": "I'm Buffy, and you're history",
     "type": "article-journal",
     "volume": "6"
    },
    "16470964/47DM3B2G": {
     "URL": "https://www.wattpad.com",
     "id": "16470964/47DM3B2G",
     "title": "Wattpad. Reading app, social networking service",
     "type": "webpage"
    },
    "16470964/4AAPQW2P": {
     "URL": "https://destinationtoast.tumblr.com/post/57976709573/which-fandoms-have-the-most-femslash-on-ao3-i",
     "accessed": {
      "day": 19,
      "month": 3,
      "year": 2024
     },
     "author": [
      {
       "family": "Destinationtoast",
       "given": ""
      }
     ],
     "container-title": "Tumblr",
     "genre": "Tumblr",
     "id": "16470964/4AAPQW2P",
     "issued": {
      "year": 2013
     },
     "title": "fic, stats, cats, squee",
     "type": "post-weblog"
    },
    "16470964/52Q99BQ4": {
     "author": [
      {
       "family": "Booth",
       "given": "Paul"
      }
     ],
     "edition": "Second Edition",
     "id": "16470964/52Q99BQ4",
     "issued": {
      "year": 2017
     },
     "publisher": "Peter Lang",
     "title": "Digital Fandom 2.0: New Media Studies",
     "type": "book"
    },
    "16470964/5SHUWW9E": {
     "ISBN": "978-1-00-036821-5",
     "abstract": "The Future of Digital Data, Heritage and Curation critiques digital cultural heritage concepts and their application to data, developing new theories, curatorial practices and a more-than-human museology for a contemporary and future world.  Presenting a diverse range of case examples from around the globe, Cameron offers a critical and philosophical reflection on the ways in which digital cultural heritage is currently framed as societal data worth passing on to future generations in two distinct forms: digitally born and digitizations. Demonstrating that most perceptions of digital cultural heritage are distinctly western in nature, the book also examines the complicity of such heritage in climate change, and environmental destruction and injustice. Going further still, the book theorizes the future of digital data, heritage, curation and the notion of the human in the context of the profusion of new types of societal data and production processes driven by the intensification of data economies and through the emergence of new technologies. In so doing, the book makes a case for the development of new types of heritage that comprise AI, automated systems, biological entities, infrastructures, minerals and chemicals – all of which have their own forms of agency, intelligence and cognition.  The Future of Digital Data, Heritage and Curation is essential reading for academics and students engaged in the study of museums, archives, libraries, galleries, archaeology, cultural heritage management, information management, curatorial studies and digital humanities.",
     "author": [
      {
       "family": "Cameron",
       "given": "Fiona R."
      }
     ],
     "id": "16470964/5SHUWW9E",
     "issued": {
      "year": 2021
     },
     "language": "en",
     "note": "Google-Books-ID: 8EEiEAAAQBAJ",
     "number-of-pages": "239",
     "publisher": "Routledge",
     "shortTitle": "The Future of Digital Data, Heritage and Curation",
     "title": "The Future of Digital Data, Heritage and Curation: in a More-than-Human World",
     "title-short": "The Future of Digital Data, Heritage and Curation",
     "type": "book"
    },
    "16470964/7FE4X9PD": {
     "URL": "https://www.routledge.com/Fan-Cultures/Hills/p/book/9780415240253",
     "abstract": "Emphasising the contradictions of fandom, Matt Hills outlines how media fans have been conceptualised in cultural theory. Drawing on case studies of specific fan groups, from Elvis impersonators to X-Philes and Trekkers, Hills discusses a range of approaches to fandom, from the Frankfurt School to psychoanalytic readings, and asks whether the development of new media creates the possibility of new forms of fandom. Fan Cultures also explores the notion of",
     "accessed": {
      "day": 12,
      "month": 4,
      "year": 2024
     },
     "author": [
      {
       "family": "Hills",
       "given": "Matthew"
      }
     ],
     "id": "16470964/7FE4X9PD",
     "issued": {
      "year": 2002
     },
     "language": "en",
     "publisher": "Routledge",
     "title": "Fan Cultures",
     "type": "book"
    },
    "16470964/9ZG95ADV": {
     "URL": "https://archiveofourown.org",
     "id": "16470964/9ZG95ADV",
     "title": "Archive of Our Own. Nonprofit open source repository for fanfiction and other fanworks contributed by users",
     "type": "webpage"
    },
    "16470964/AX6HW379": {
     "URL": "https://unesdoc.unesco.org/ark:/48223/pf0000179529",
     "id": "16470964/AX6HW379",
     "issued": {
      "year": 2009
     },
     "title": "Charter on the Preservation of the Digital Heritage. UNESCO. CL/3865.",
     "type": "webpage"
    },
    "16470964/BX4Q4K4M": {
     "URL": "https://journal.transformativeworks.org/index.php/twc",
     "id": "16470964/BX4Q4K4M",
     "title": "Journal on Transformative Works and Cultures",
     "type": "webpage"
    },
    "16470964/BZ72B89N": {
     "ISBN": "978-3-8394-6141-9",
     "URL": "https://www.degruyter.com/document/doi/10.1515/9783839461419-014/html?lang=en",
     "abstract": "Where are the Lesbian Rom-Coms? Building Reparative Narratives Through Fan Creativity was published in Affective Worldmaking on page 165.",
     "accessed": {
      "day": 12,
      "month": 4,
      "year": 2024
     },
     "author": [
      {
       "family": "Jansová",
       "given": "Iveta"
      }
     ],
     "container-title": "Where are the Lesbian Rom-Coms? Building Reparative Narratives Through Fan Creativity",
     "id": "16470964/BZ72B89N",
     "issued": {
      "year": 2022
     },
     "language": "en",
     "note": "DOI: 10.1515/9783839461419-014",
     "page": "165-174",
     "page-first": "165",
     "publisher": "transcript Verlag",
     "shortTitle": "Where are the Lesbian Rom-Coms?",
     "title": "Where are the Lesbian Rom-Coms? Building Reparative Narratives Through Fan Creativity",
     "title-short": "Where are the Lesbian Rom-Coms?",
     "type": "chapter"
    },
    "16470964/CBAPIG35": {
     "ISBN": "978-0-335-20490-8",
     "abstract": "« Citizenship in a Global Age provides a comprehensive and concise overview of the main debates on citizenship and the implications of globalization. It argues that citizenship is no longer defined by nationality and the nation state, but has become de-territorialized and fragmented into the separate discourses of rights, participation, responsibility and identity. Gerard Delanty claims that cosmopolitanism is increasingly becoming a significant force in the global world due to new expressions of cultural identity, civic ties, human rights, technological innovations, ecological sustainability and political mobilization. Citizenship is no longer exclusively about the struggle for social equality but has become a major site of battles over cultural identity and demands for the recognition of group difference. Delanty argues that globalization both threatens and supports cosmopolitan citizenship. Critical of the prospects for a global civil society, he defends the alternative idea of a more limited cosmopolitan public sphere as a basis for new kinds of citizenship that have emerged in a global age. »--Page 4 de la couverture.",
     "author": [
      {
       "family": "Delanty",
       "given": "Gerard"
      }
     ],
     "id": "16470964/CBAPIG35",
     "issued": {
      "year": 2000
     },
     "language": "en",
     "note": "Google-Books-ID: dOMWAQAAIAAJ",
     "number-of-pages": "198",
     "publisher": "Open University Press",
     "shortTitle": "Citizenship in a Global Age",
     "title": "Citizenship in a Global Age: Society, Culture, Politics",
     "title-short": "Citizenship in a Global Age",
     "type": "book"
    },
    "16470964/CZNWJGXD": {
     "author": [
      {
       "family": "Rheingold",
       "given": "Howard"
      }
     ],
     "event-place": "Barcelona",
     "id": "16470964/CZNWJGXD",
     "issued": {
      "year": 1996
     },
     "number-of-pages": "381",
     "publisher": "Gedisa",
     "publisher-place": "Barcelona",
     "title": "La comunidad virtual. Una sociedad sin fronteras",
     "type": "book"
    },
    "16470964/DEYTY3K2": {
     "ISBN": "978-0-8147-3181-9",
     "URL": "http://www.scopus.com/inward/record.url?scp=84901156311&partnerID=8YFLogxK",
     "abstract": "We are all fans. Whether we log on to Web sites to scrutinize the latest plot turns in Lost, \"stalk\" our favorite celebrities on Gawker, attend gaming conventions, or simply wait with bated breath for the newest Harry Potter novel-each of us is a fan. Fandom extends beyond television and film to literature, opera, sports, and pop music, and encompasses both high and low culture. Fandom brings together leading scholars to examine fans, their practices, and their favorite texts. This unparalleled selection of original essays examines instances across the spectrum of modern cultural consumption from Karl Marx to Paris Hilton, Buffy the Vampire Slayer to backyard wrestling, Bach fugues to Bollywood cinema, and nineteenth-century concert halls to computer gaming. Contributors examine fans of high cultural texts and genres, the spaces of fandom, fandom around the globe, the impact of new technologies on fandom, and the legal and historical contexts of fan activity. Fandom is key to understanding modern life in our increasingly mediated and globalized world.",
     "accessed": {
      "day": 12,
      "month": 4,
      "year": 2024
     },
     "collection-editor": [
      {
       "family": "Gray",
       "given": "Jonathan"
      },
      {
       "family": "Sandvoss",
       "given": "Cornel"
      },
      {
       "family": "Harrington",
       "given": "C. Lee"
      }
     ],
     "id": "16470964/DEYTY3K2",
     "issued": {
      "month": 6,
      "year": 2007
     },
     "publisher": "New York University Press",
     "shortTitle": "Fandom",
     "title": "Fandom: Identities and Communities in a Mediated World",
     "title-short": "Fandom",
     "type": "book"
    },
    "16470964/DSARXFVM": {
     "author": [
      {
       "family": "Couldry",
       "given": "Nick"
      },
      {
       "family": "Hepp",
       "given": "Andreas"
      }
     ],
     "id": "16470964/DSARXFVM",
     "issued": {
      "year": 2017
     },
     "publisher": "Cambridge: Polity Press",
     "title": "The Mediated Construction of Reality",
     "type": "book"
    },
    "16470964/FSM3RB3N": {
     "ISBN": "978-0-8147-4281-5",
     "URL": "https://www.jstor.org/stable/j.ctt9qffwr",
     "abstract": "Henry Jenkins at Authors@Google (video)Winner of the 2007 Society for Cinema and Media Studies Katherine Singer Kovacs Book Award2007 Choice Outstanding Academic Title Convergence Culture maps a new territory: where old and new media intersect, where grassroots and corporate media collide, where the power of the media producer and the power of the consumer interact in unpredictable ways.Henry Jenkins, one of America's most respected media analysts, delves beneath the new media hype to uncover the important cultural transformations that are taking place as media converge. He takes us into the secret world of Survivor Spoilers, where avid internet users pool their knowledge to unearth the show's secrets before they are revealed on the air. He introduces us to young Harry Potter fans who are writing their own Hogwarts tales while executives at Warner Brothers struggle for control of their franchise. He shows us how The Matrix has pushed transmedia storytelling to new levels, creating a fictional world where consumers track down bits of the story across multiple media channels.Jenkins argues that struggles over convergence will redefine the face of American popular culture. Industry leaders see opportunities to direct content across many channels to increase revenue and broaden markets. At the same time, consumers envision a liberated public sphere, free of network controls, in a decentralized media environment. Sometimes corporate and grassroots efforts reinforce each other, creating closer, more rewarding relations between media producers and consumers. Sometimes these two forces are at war.Jenkins provides a riveting introduction to the world where every story gets told and every brand gets sold across multiple media platforms. He explains the cultural shift that is occurring as consumers fight for control across disparate channels, changing the way we do business, elect our leaders, and educate our children.",
     "accessed": {
      "day": 26,
      "month": 2,
      "year": 2024
     },
     "author": [
      {
       "family": "Jenkins",
       "given": "Henry"
      }
     ],
     "id": "16470964/FSM3RB3N",
     "issued": {
      "year": 2006
     },
     "publisher": "NYU Press",
     "shortTitle": "Convergence Culture",
     "title": "Convergence Culture: Where Old and New Media Collide",
     "title-short": "Convergence Culture",
     "type": "book"
    },
    "16470964/GBURX9N8": {
     "author": [
      {
       "family": "Kljujkova",
       "given": "Elena"
      },
      {
       "family": "Chetina",
       "given": "Yekatherina"
      }
     ],
     "container-title": "Vestnik Permskogo universiteta. Rossijskaja i zarubezhnaja filologija",
     "id": "16470964/GBURX9N8",
     "issue": "31",
     "issued": {
      "year": 2015
     },
     "language": "ru",
     "page": "95-104",
     "page-first": "95",
     "title": "Fandomy i fanfiki: kreativnye praktiki na virtual'nyh platformah",
     "type": "article-journal",
     "volume": "3"
    },
    "16470964/GNSCJK6Z": {
     "author": [
      {
       "family": "Coppa",
       "given": "Francesca"
      }
     ],
     "container-title": "Fan Fiction and Fan Communities in the Age of the Internet: New Essays. Hellekson, Karen, and Kristina Busse (Eds.)",
     "id": "16470964/GNSCJK6Z",
     "issued": {
      "year": 2006
     },
     "publisher": "McFarland",
     "title": "A Brief History of Media Fandom",
     "type": "chapter"
    },
    "16470964/GZBPJB6W": {
     "URL": "https://opendoors.transformativeworks.org/en/",
     "accessed": {
      "day": 26,
      "month": 10,
      "year": 2023
     },
     "id": "16470964/GZBPJB6W",
     "language": "en-US",
     "title": "Open Doors",
     "type": "post-weblog"
    },
    "16470964/HBJ6YF8M": {
     "ISBN": "978-0-8047-4646-5",
     "abstract": "No theme has been more central to international philosophical debates than that of community: from American communitarianism to Habermas's ethic of communication to the French deconstruction of community in the work of Derrida and Nancy. Nevertheless, in none of these cases has the concept been examined from the perspective of community's original etymological meaning: cum munus. In Communitas: The Origin and Destiny of Community, Roberto Esposito does just that through an original counter-history of political philosophy that takes up not only readings of community by Hobbes, Rousseau, Kant, Heidegger and Bataille, but also by Hölderlin, Nietzsche, Canetti, Arendt, and Sartre. The result of his extraordinary conceptual and lexical analysis is a radical overturning of contemporary interpretations of community. Community isn't a property, nor is it a territory to be separated and defended against those who do not belong to it. Rather, it is a void, a debt, a gift to the other that also reminds us of our constitutive alterity with respect to ourselves.",
     "author": [
      {
       "family": "Esposito",
       "given": "Roberto"
      }
     ],
     "event-place": "Stanford",
     "id": "16470964/HBJ6YF8M",
     "issued": {
      "year": 2009
     },
     "number-of-pages": "192",
     "publisher": "Stanford University Press",
     "publisher-place": "Stanford",
     "shortTitle": "Communitas",
     "title": "Communitas: The Origin and Destiny of Community",
     "title-short": "Communitas",
     "translator": [
      {
       "family": "Campbell",
       "given": "Timothy C."
      }
     ],
     "type": "book"
    },
    "16470964/IJTW2W79": {
     "URL": "https://cyberleninka.ru/article/n/zhanr-v-fanfikshn-zakonomernosti-ispolzovaniya-na-materiale-fandomov-sherlok-merlin-sverhestestvennoe",
     "author": [
      {
       "family": "Korobko",
       "given": "Mikhail"
      }
     ],
     "container-title": "Uchenye zapiski Orlovskogo gosudarstvennogo universiteta. Serija: Gumanitarnye i social'nye nauki",
     "id": "16470964/IJTW2W79",
     "issued": {
      "year": 2015
     },
     "language": "ru",
     "title": "Zhanr v fanfikshn: zakonomernosti ispol'zovanija (na materiale fandomov «Sherlok», «Merlin», «Sverh\"estestvennoe»)",
     "type": "article-journal",
     "volume": "6"
    },
    "16470964/IMI4WFZB": {
     "URL": "https://opendoors.transformativeworks.org/en/fan-culture-preservation/",
     "id": "16470964/IMI4WFZB",
     "title": "Open Doors. Culture Preservation Project",
     "type": "webpage"
    },
    "16470964/IVUQ26KV": {
     "URL": "https://www.tumblr.com",
     "id": "16470964/IVUQ26KV",
     "title": "Tumblr. Microblogging and social networking website",
     "type": "webpage"
    },
    "16470964/JGSEGBF4": {
     "ISBN": "978-1-4462-6769-1",
     "abstract": "'This is the media and society text that critical scholars have been waiting for'. - Professor Mark Andrejevic, Pomona College This book unpacks the role of the media in social, cultural and political contexts and encourages you to reflect on the power relationships that are formed as a result.     Structured around the three cornerstones of media studies; production, content and participation, this is an ideal introduction to your studies in media, culture and society. The book:       Evaluates recent developments in media production, industries and platforms brought about the emergence of interactive media technologies. Examines the shifting relationship between media production and consumption instigated by the rise of social and mobile media, recasting consumption as ‘participation’. Explores the construction of texts and meanings via media representations, consumer culture and popular culture, as well as the relationship between politics and public relations. Assesses the debates around the creative and cultural labour involved in meaning-making. Includes a companion website featuring exercise and discussion questions, links to relevant blogs and web material, lists of further reading and free access to key journal articles.",
     "author": [
      {
       "family": "Carah",
       "given": "Nicholas"
      },
      {
       "family": "Louw",
       "given": "Eric"
      }
     ],
     "id": "16470964/JGSEGBF4",
     "issued": {
      "year": 2015
     },
     "language": "en",
     "note": "Google-Books-ID: 6DCYoAEACAAJ",
     "number-of-pages": "352",
     "publisher": "SAGE Publications",
     "shortTitle": "Media and Society",
     "title": "Media and Society: Production, Content and Participation",
     "title-short": "Media and Society",
     "type": "book"
    },
    "16470964/JZFGZ9NF": {
     "DOI": "10.3983/twc.2017.01168",
     "URL": "https://journal.transformativeworks.org/index.php/twc/article/view/1168",
     "abstract": "Editorial for \"Queer female fandom,\" edited by Julie Levin Russo and Eve Ng, special issue, Transformative Works and Cultures, no. 24 (June 15, 2017).",
     "accessed": {
      "day": 19,
      "month": 3,
      "year": 2024
     },
     "author": [
      {
       "family": "Ng",
       "given": "Eve"
      },
      {
       "family": "Russo",
       "given": "Julie Levin"
      }
     ],
     "container-title": "Transformative Works and Cultures",
     "id": "16470964/JZFGZ9NF",
     "issued": {
      "year": 2017
     },
     "language": "en",
     "title": "Envisioning queer female fandom",
     "type": "article-journal",
     "volume": "24"
    },
    "16470964/K2C2GESR": {
     "DOI": "10.1080/10436928.2020.1712791",
     "URL": "https://doi.org/10.1080/10436928.2020.1712791",
     "accessed": {
      "day": 22,
      "month": 3,
      "year": 2024
     },
     "author": [
      {
       "family": "Kelly",
       "given": "Alice M."
      }
     ],
     "container-title": "Lit: Literature Interpretation Theory",
     "id": "16470964/K2C2GESR",
     "issue": "1",
     "issued": {
      "day": 2,
      "month": 1,
      "year": 2020
     },
     "note": "Publisher: Routledge\n_eprint: https://doi.org/10.1080/10436928.2020.1712791",
     "page": "42-59",
     "page-first": "42",
     "shortTitle": "“Lots of Us Are Doing Fine”",
     "title": "“Lots of Us Are Doing Fine”: Femslash Fan Fiction, Happy Endings, and the Archontic Expansions of the Price of Salt Archive",
     "title-short": "“Lots of Us Are Doing Fine”",
     "type": "article-journal",
     "volume": "31"
    },
    "16470964/KKWQEMAP": {
     "DOI": "10.3983/twc.2022.2125",
     "URL": "https://journal.transformativeworks.org/index.php/twc/article/view/2125",
     "abstract": "The compound term fan-historian may be used to describe fans who engage in a wide range of memory, archival, and other past-focused fan work, which helps make sense of the past and makes it usable for their communities. Fan-historians may thus be described in an inclusive way that recognizes the common practices that exist between the work of fans and historians; both take curatorial and transformative approaches to knowledge. This formulation also emphasizes the fact that fans are participants in historical work, not merely its subjects. Fan-historians thus work as both fans and historians to produce fan-historical work. This labor is centrally important to fan communities and vital in light of the established links between history and power.",
     "accessed": {
      "day": 19,
      "month": 3,
      "year": 2024
     },
     "author": [
      {
       "family": "Stevens",
       "given": "E. Charlotte"
      },
      {
       "family": "Webber",
       "given": "Nick"
      }
     ],
     "container-title": "Transformative Works and Cultures",
     "id": "16470964/KKWQEMAP",
     "issued": {
      "year": 2022
     },
     "language": "en",
     "title": "The fan-historian",
     "type": "article-journal",
     "volume": "37"
    },
    "16470964/LBBDGA7F": {
     "URL": "http://henryjenkins.org/blog/2016/10/why-study-fan-archives-an-interview-with-abigail-de-kosnik-part-one.html",
     "abstract": "Karen Hellekson and Kristina Busse's  Fan Fiction and Fan Communities in the Internet Age  introduced a new generation of fan scholars and their work: as a cohort, these women were deeply embedded in the fan communities about which they wrote (\"aca-fans\"), they had come of a",
     "accessed": {
      "day": 12,
      "month": 4,
      "year": 2024
     },
     "author": [
      {
       "family": "Jenkins",
       "given": "Henry"
      }
     ],
     "container-title": "Henry Jenkins",
     "id": "16470964/LBBDGA7F",
     "issued": {
      "year": 2016
     },
     "language": "en-US",
     "shortTitle": "Why Study Fan Archives",
     "title": "Why Study Fan Archives: An Interview with Abigail De Kosnik (Part One) — Pop Junctions",
     "title-short": "Why Study Fan Archives",
     "type": "webpage"
    },
    "16470964/MG8FRCP6": {
     "ISBN": "978-1-135-24519-1",
     "abstract": "The internet has recently grown from a fringe cultural phenomenon to a significant site of cultural production and transformation. Internet Culture maps this new domain of language, politics and identity, locating it within the histories of communication and the public sphere. Internet Culture offers a critical interrogation of the sustaining myths of the virtual world and of the implications of the current mass migration onto the electronic frontier. Among the topics discussed in Internet Culture are the virtual spaces and places created by the citizens of the Net and their claims to the hotly contested notion of \"virtual community\"; the virtual bodies that occupy such spaces; and the desires that animate these bodies. The contributors also examine the communication medium behind theworlds of the Net, analyzing the rhetorical conventions governing online discussion, literary antecedents,and potential pedagogical applications.",
     "author": [
      {
       "family": "Porter",
       "given": "David"
      }
     ],
     "id": "16470964/MG8FRCP6",
     "issued": {
      "day": 25,
      "month": 2,
      "year": 1997
     },
     "language": "en",
     "note": "Google-Books-ID: hUhaDwAAQBAJ",
     "number-of-pages": "212",
     "publisher": "Routledge",
     "title": "Internet Culture",
     "type": "book"
    },
    "16470964/MYJ85V6G": {
     "DOI": "10.1080/15405700903502346",
     "URL": "https://doi.org/10.1080/15405700903502346",
     "abstract": "This essay traces the profound impact of the digital revolution upon fandom, looking particularly at debates within the fan and acafan communities. It argues that fans have always been at the forefront of media industry transformations, summarizes some of the common themes emerging in the debate, and considers the wider implications for the reconfigured relationships between producer and consumer in the digital economy.",
     "accessed": {
      "day": 26,
      "month": 10,
      "year": 2023
     },
     "author": [
      {
       "family": "Pearson",
       "given": "Roberta"
      }
     ],
     "container-title": "Popular Communication",
     "id": "16470964/MYJ85V6G",
     "issue": "1",
     "issued": {
      "year": 2010
     },
     "note": "Publisher: Routledge\n_eprint: https://doi.org/10.1080/15405700903502346",
     "page": "84-95",
     "page-first": "84",
     "title": "Fandom in the Digital Era",
     "type": "article-journal",
     "volume": "8"
    },
    "16470964/NLCJKISV": {
     "ISBN": "978-0-8204-7613-1",
     "URL": "https://swbplus.bsz-bw.de/bsz257352783inh.htm",
     "abstract": "Includes bibliogr. references (p. [229] - 244) and index",
     "accessed": {
      "day": 12,
      "month": 4,
      "year": 2024
     },
     "author": [
      {
       "family": "Willson",
       "given": "Michele A."
      }
     ],
     "event-place": "New York, NY",
     "id": "16470964/NLCJKISV",
     "issued": {
      "year": 2006
     },
     "publisher": "Lang",
     "publisher-place": "New York, NY",
     "title": "Technically together rethinking community within techno-society",
     "type": "book"
    },
    "16470964/PQQ7PTCE": {
     "author": [
      {
       "family": "Sharkov",
       "given": "Felix"
      }
     ],
     "container-title": "Kommunikologija",
     "id": "16470964/PQQ7PTCE",
     "issue": "5",
     "issued": {
      "year": 2015
     },
     "page": "29-45",
     "page-first": "29",
     "title": "Razvitie virtual'nyh setevyh soobshhestv v internete",
     "type": "article-journal",
     "volume": "3"
    },
    "16470964/QDVVLXHD": {
     "ISBN": "978-1-4331-1070-2",
     "abstract": "\"This book re-evaluates the way we examine today's digital media environment By looking at how popular culture uses different digital technologies, Digital Fandom bolsters contemporary media theory by introducing new methods of analysis Using the exemplars of alternate reality gaming and fan studies, this book takes into account a particular \"philosophy of playfulness\" in today's media in order to establish a \"new media studies.\"\" \"Digital Fandom augments traditional studies of popular media fandom with descriptions of the contemporary fan in a converged media environment. The book shows how changes in the study of fandom can be applied in a larger scale to the study of new media in general, and formulates new conceptions of traditional media theories.\" \"\"In this web 2.0 world, where community and not content is king, the fan marks a new form of interactive subjectivity that deconstructs the usual categories of consumer and producer. Paul Booth's Digital Fandom breaks new ground in the investigation of this subject, demonstrating how it reorganizes and reorients the field of new media studies\" ---David J. Gunkel, Presidential Teaching Professor, Northern Illinois University, Author of Hacking Cyberspace and Thinking Otherwise\" \"\"From blogs to ARGS, wikis to social networking sites, Paul Booth provides an in-depth tour of how fans straddle and traverse the boundary between television and digital media. With a theoretically rich analytic eye, Digital Fandom breaks new ground for the next generation of media scholarship\" ---Jason Mittell, Middlebury College, Author of Television & American Culture\"--BOOK JACKET.",
     "author": [
      {
       "family": "Booth",
       "given": "Paul"
      }
     ],
     "id": "16470964/QDVVLXHD",
     "issued": {
      "year": 2010
     },
     "language": "en",
     "note": "Google-Books-ID: 9LdS5WwGOvwC",
     "number-of-pages": "254",
     "publisher": "Peter Lang",
     "shortTitle": "Digital Fandom",
     "title": "Digital Fandom: New Media Studies",
     "title-short": "Digital Fandom",
     "type": "book"
    },
    "16470964/R8PIWVXW": {
     "author": [
      {
       "family": "Jenkins",
       "given": "Henry"
      }
     ],
     "id": "16470964/R8PIWVXW",
     "issued": {
      "year": 1992
     },
     "publisher": "New York: Routledge",
     "title": "Textual Poachers: Television Fans & Participatory Culture. Studies in culture and communication.",
     "type": "book"
    },
    "16470964/SRRX7WV4": {
     "ISBN": "978-0-8039-5677-3",
     "abstract": "The culture of computer and network- mediated communication is growing both in size and sophistication. Cyberspace is the new frontier where new worlds, meanings and values are developed. CyberSociety focuses on the construction, maintenance and mediation of community in electronic networks and computer-mediated communication. Leading scholars representing the range of disciplines involved in the study of cyberculture lay out the definitions, boundaries and approaches to the field, as they focus on the social relations that computer-mediated communication engenders.",
     "author": [
      {
       "family": "Jones",
       "given": "Steve"
      }
     ],
     "id": "16470964/SRRX7WV4",
     "issued": {
      "year": 1995
     },
     "language": "en",
     "note": "Google-Books-ID: qoc5DQAAQBAJ",
     "number-of-pages": "253",
     "publisher": "SAGE",
     "title": "CyberSociety: Computer-Mediated Communication and Community",
     "type": "book"
    },
    "16470964/TF96TGQE": {
     "URL": "http://publication.pravo.gov.ru/Document/View/0001202304170032",
     "id": "16470964/TF96TGQE",
     "issued": {
      "year": 2023
     },
     "title": "Order of the Federal Service for Supervision in the Sphere of Communications, Information Technologies and Mass Communications dated February 27, 2023 No. 25 ‘On approval of the Criteria for evaluating materials and (or) information necessary for the Federal Service for Supervision of Communications, Information Technology and Mass Communications to make decisions that are grounds for including domain names and (or) site page indexes on the Internet information and telecommunications network’, as well as network addresses that allow you to identify websites in the information and telecommunications network ‘Internet’, into a unified automated information system ‘Unified register of domain names, indexes of site pages in the information and telecommunications network ‘Internet’ and network addresses that allow you to identify websites in the information - the Internet telecommunications network containing information the distribution of which is prohibited in the Russian Federation’, Registered 04/17/2023 No. 73053",
     "type": "webpage"
    },
    "16470964/TKV2HZXZ": {
     "URL": "https://www.autostraddle.com/femslash-can-save-the-world-if-we-let-it-246684/",
     "abstract": "Culture doesn’t need exploring so much as it needs exploding. We need to destroy things and reconstruct them in our own image, because the people who make our media aren’t going to do it for us. That’s why I want femslash to save the world, and I will not take no for an answer.",
     "accessed": {
      "day": 19,
      "month": 3,
      "year": 2024
     },
     "author": [
      {
       "family": "Kate",
       "given": ""
      }
     ],
     "container-title": "Autostraddle",
     "id": "16470964/TKV2HZXZ",
     "issued": {
      "year": 2014
     },
     "language": "en-US",
     "title": "Femslash Can Save the World If We Let It",
     "type": "post-weblog"
    },
    "16470964/V5EK48RG": {
     "URL": "https://web.archive.org/web/20160302134417/https://www.lurkmore.ru/",
     "id": "16470964/V5EK48RG",
     "issued": {
      "day": 2,
      "month": 3,
      "year": 2016
     },
     "title": "Lurkomorye, Internet Archive, Wayback Machine, Snapshot on 02.03.2016",
     "type": "webpage"
    },
    "16470964/VKJFRHU6": {
     "ISBN": "978-1-135-20904-9",
     "abstract": "The internet has recently grown from a fringe cultural phenomenon to a significant site of cultural production and transformation. Internet Culture maps this new domain of language, politics and identity, locating it within the histories of communication and the public sphere. Internet Culture offers a critical interrogation of the sustaining myths of the virtual world and of the implications of the current mass migration onto the electronic frontier. Among the topics discussed in Internet Culture are the virtual spaces and places created by the citizens of the Net and their claims to the hotly contested notion of \"virtual community\"; the virtual bodies that occupy such spaces; and the desires that animate these bodies. The contributors also examine the communication medium behind theworlds of the Net, analyzing the rhetorical conventions governing online discussion, literary antecedents,and potential pedagogical applications.",
     "author": [
      {
       "family": "Porter",
       "given": "David"
      }
     ],
     "id": "16470964/VKJFRHU6",
     "issued": {
      "day": 13,
      "month": 9,
      "year": 2013
     },
     "language": "en",
     "note": "Google-Books-ID: KQLaAAAAQBAJ",
     "number-of-pages": "298",
     "publisher": "Routledge",
     "title": "Internet Culture",
     "type": "book"
    },
    "16470964/XNHDY2ZD": {
     "ISBN": "978-1-4411-5855-0 978-1-4411-6693-7",
     "abstract": "\"While fans used to be seen as an overly obsessed fringe audience, shifts in technology and production in the last few decades have made fandom a central mode of media consumption. An abundance of theorists have emerged in parallel to explore this phenomenon, many specializing in particular kinds of fan research. Although the volume will not address sports fandom, it will aim to include insights from research linked to many other kinds of media, including television and popular music fandom. With a foreword by Matt Hills, Understanding Fandom introduces the whole field of fan studies by looking at the history of debate, key paradigms and methodogical issues. The emphasis will be on showing how fan studies is an emergent interdisciplinary field with its own key scholars and a tradition that is distinct from both textual analysis and reception studies. It draws together a range of debates from media studies, cultural studies and psychology to argue that fandom is particular kind of an engagement with the power relations of media culture\"--",
     "author": [
      {
       "family": "Duffett",
       "given": "Mark"
      }
     ],
     "call-number": "HM646 .D84 2013",
     "event-place": "New York",
     "id": "16470964/XNHDY2ZD",
     "issued": {
      "year": 2013
     },
     "language": "en",
     "number-of-pages": "342",
     "publisher": "Bloomsbury",
     "publisher-place": "New York",
     "shortTitle": "Understanding fandom",
     "title": "Understanding fandom: an introduction to the study of media fan culture",
     "title-short": "Understanding fandom",
     "type": "book"
    },
    "16470964/XP7UI22F": {
     "URL": "https://ficbook.net/",
     "id": "16470964/XP7UI22F",
     "title": "Book of Fanfiction. Archive and fanfiction publishing platform",
     "type": "webpage"
    },
    "16470964/Y8332K2L": {
     "ISBN": "978-1-4051-8167-9",
     "abstract": "This introduction to cybercultures provides a cutting-edge and much needed guide to the rapidly changing world of new media and communication.  Considers cyberculture and new media through contemporary race, gender and sexuality studies and postcolonial theory Offers a clear analysis of some of the most complex issues in cybercultures, including identity, network societies, new geographies, and connectivity Includes discussions of gaming, social networking, geography, net-democracy, aesthetics, popular internet culture, the body, sexuality and politics Examines key questions in the political economy, racialization, gendering and governance of cyberculture",
     "author": [
      {
       "family": "Nayar",
       "given": "Pramod K."
      }
     ],
     "id": "16470964/Y8332K2L",
     "issued": {
      "year": 2010
     },
     "language": "en",
     "note": "Google-Books-ID: lRlGrA5joxIC",
     "number-of-pages": "225",
     "publisher": "John Wiley & Sons",
     "title": "An Introduction to New Media and Cybercultures",
     "type": "book"
    },
    "16470964/YS2HCCG3": {
     "URL": "https://www.wiley.com/en-us/The+Information+Society%3A+Cyber+Dreams+and+Digital+Nightmares-p-9780745641805",
     "abstract": "What are we to make of the information society? Many prominent theorists have argued it to be the most profound and comprehensive transformation of economy, culture and politics since the rise of the industrial way of life in the 18th century. Some saw its arrival in a positive light, where the dreams of democracy, of ‘connectivity’ and ‘efficiency’ constituted a break with the old ways. But other thinkers viewed it more in terms of the recurrent nightmare of capitalism, where the processes of exploitation, commodification and alienation are given much freer rein than ever before. In this book Robert Hassan, a prominent theorist in new media and its effects, analyses and critically appraises these positions and forms them into a coherent narrative to illuminate the phenomenon. Surveying the works of major information society theorists from Daniel Bell to Nicholas Negroponte, and from Vincent Mosco to Manuel Castells, The Information Society is an invaluable resource for understanding the nature of the information society—as well as the meta-processes of neoliberal globalisation and the revolution in information technologies that made it possible.",
     "accessed": {
      "day": 31,
      "month": 10,
      "year": 2023
     },
     "author": [
      {
       "family": "",
       "given": "Robert Hassan"
      }
     ],
     "container-title": "Wiley.com",
     "id": "16470964/YS2HCCG3",
     "language": "en-us",
     "shortTitle": "The Information Society",
     "title": "The Information Society: Cyber Dreams and Digital Nightmares | Wiley",
     "title-short": "The Information Society",
     "type": "webpage"
    },
    "undefined": {
     "URL": "https://www.wiley.com/en-us/The+Information+Society%3A+Cyber+Dreams+and+Digital+Nightmares-p-9780745641805",
     "abstract": "What are we to make of the information society? Many prominent theorists have argued it to be the most profound and comprehensive transformation of economy, culture and politics since the rise of the industrial way of life in the 18th century. Some saw its arrival in a positive light, where the dreams of democracy, of ‘connectivity’ and ‘efficiency’ constituted a break with the old ways. But other thinkers viewed it more in terms of the recurrent nightmare of capitalism, where the processes of exploitation, commodification and alienation are given much freer rein than ever before. In this book Robert Hassan, a prominent theorist in new media and its effects, analyses and critically appraises these positions and forms them into a coherent narrative to illuminate the phenomenon. Surveying the works of major information society theorists from Daniel Bell to Nicholas Negroponte, and from Vincent Mosco to Manuel Castells, The Information Society is an invaluable resource for understanding the nature of the information society—as well as the meta-processes of neoliberal globalisation and the revolution in information technologies that made it possible.",
     "accessed": {
      "day": 31,
      "month": 10,
      "year": 2023
     },
     "author": [
      {
       "family": "Hassan",
       "given": "Hassan"
      }
     ],
     "id": "undefined",
     "issued": {
      "year": 2008
     },
     "language": "en-us",
     "publisher": "Wiley",
     "shortTitle": "The Information Society",
     "title": "The Information Society: Cyber Dreams and Digital Nightmares",
     "title-short": "The Information Society",
     "type": "book"
    }
   }
  },
  "kernelspec": {
   "display_name": "Python 3 (ipykernel)",
   "language": "python",
   "name": "python3"
  },
  "language_info": {
   "codemirror_mode": {
    "name": "ipython",
    "version": 3
   },
   "file_extension": ".py",
   "mimetype": "text/x-python",
   "name": "python",
   "nbconvert_exporter": "python",
   "pygments_lexer": "ipython3",
   "version": "3.7.13"
  },
  "toc": {
   "base_numbering": 1,
   "nav_menu": {},
   "number_sections": true,
   "sideBar": true,
   "skip_h1_title": false,
   "title_cell": "Table of Contents",
   "title_sidebar": "Contents",
   "toc_cell": false,
   "toc_position": {},
   "toc_section_display": true,
   "toc_window_display": false
  }
 },
 "nbformat": 4,
 "nbformat_minor": 4
}
